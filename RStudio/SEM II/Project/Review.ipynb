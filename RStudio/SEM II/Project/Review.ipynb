{
 "cells": [
  {
   "cell_type": "code",
   "execution_count": 1,
   "metadata": {},
   "outputs": [],
   "source": [
    "import pandas as pd\n",
    "import numpy as np"
   ]
  },
  {
   "cell_type": "code",
   "execution_count": 2,
   "metadata": {},
   "outputs": [
    {
     "data": {
      "text/html": [
       "<div>\n",
       "<style scoped>\n",
       "    .dataframe tbody tr th:only-of-type {\n",
       "        vertical-align: middle;\n",
       "    }\n",
       "\n",
       "    .dataframe tbody tr th {\n",
       "        vertical-align: top;\n",
       "    }\n",
       "\n",
       "    .dataframe thead th {\n",
       "        text-align: right;\n",
       "    }\n",
       "</style>\n",
       "<table border=\"1\" class=\"dataframe\">\n",
       "  <thead>\n",
       "    <tr style=\"text-align: right;\">\n",
       "      <th></th>\n",
       "      <th>enrollee_id</th>\n",
       "      <th>city</th>\n",
       "      <th>city_development_index</th>\n",
       "      <th>gender</th>\n",
       "      <th>relevent_experience</th>\n",
       "      <th>enrolled_university</th>\n",
       "      <th>education_level</th>\n",
       "      <th>major_discipline</th>\n",
       "      <th>experience</th>\n",
       "      <th>company_size</th>\n",
       "      <th>company_type</th>\n",
       "      <th>last_new_job</th>\n",
       "      <th>training_hours</th>\n",
       "      <th>target</th>\n",
       "    </tr>\n",
       "  </thead>\n",
       "  <tbody>\n",
       "    <tr>\n",
       "      <th>0</th>\n",
       "      <td>8949</td>\n",
       "      <td>city_103</td>\n",
       "      <td>0.920</td>\n",
       "      <td>Male</td>\n",
       "      <td>Has relevent experience</td>\n",
       "      <td>no_enrollment</td>\n",
       "      <td>Graduate</td>\n",
       "      <td>STEM</td>\n",
       "      <td>&gt;20</td>\n",
       "      <td>NaN</td>\n",
       "      <td>NaN</td>\n",
       "      <td>1</td>\n",
       "      <td>36</td>\n",
       "      <td>1.0</td>\n",
       "    </tr>\n",
       "    <tr>\n",
       "      <th>1</th>\n",
       "      <td>29725</td>\n",
       "      <td>city_40</td>\n",
       "      <td>0.776</td>\n",
       "      <td>Male</td>\n",
       "      <td>No relevent experience</td>\n",
       "      <td>no_enrollment</td>\n",
       "      <td>Graduate</td>\n",
       "      <td>STEM</td>\n",
       "      <td>15</td>\n",
       "      <td>50-99</td>\n",
       "      <td>Pvt Ltd</td>\n",
       "      <td>&gt;4</td>\n",
       "      <td>47</td>\n",
       "      <td>0.0</td>\n",
       "    </tr>\n",
       "    <tr>\n",
       "      <th>2</th>\n",
       "      <td>11561</td>\n",
       "      <td>city_21</td>\n",
       "      <td>0.624</td>\n",
       "      <td>NaN</td>\n",
       "      <td>No relevent experience</td>\n",
       "      <td>Full time course</td>\n",
       "      <td>Graduate</td>\n",
       "      <td>STEM</td>\n",
       "      <td>5</td>\n",
       "      <td>NaN</td>\n",
       "      <td>NaN</td>\n",
       "      <td>never</td>\n",
       "      <td>83</td>\n",
       "      <td>0.0</td>\n",
       "    </tr>\n",
       "    <tr>\n",
       "      <th>3</th>\n",
       "      <td>33241</td>\n",
       "      <td>city_115</td>\n",
       "      <td>0.789</td>\n",
       "      <td>NaN</td>\n",
       "      <td>No relevent experience</td>\n",
       "      <td>NaN</td>\n",
       "      <td>Graduate</td>\n",
       "      <td>Business Degree</td>\n",
       "      <td>&lt;1</td>\n",
       "      <td>NaN</td>\n",
       "      <td>Pvt Ltd</td>\n",
       "      <td>never</td>\n",
       "      <td>52</td>\n",
       "      <td>1.0</td>\n",
       "    </tr>\n",
       "    <tr>\n",
       "      <th>4</th>\n",
       "      <td>666</td>\n",
       "      <td>city_162</td>\n",
       "      <td>0.767</td>\n",
       "      <td>Male</td>\n",
       "      <td>Has relevent experience</td>\n",
       "      <td>no_enrollment</td>\n",
       "      <td>Masters</td>\n",
       "      <td>STEM</td>\n",
       "      <td>&gt;20</td>\n",
       "      <td>50-99</td>\n",
       "      <td>Funded Startup</td>\n",
       "      <td>4</td>\n",
       "      <td>8</td>\n",
       "      <td>0.0</td>\n",
       "    </tr>\n",
       "  </tbody>\n",
       "</table>\n",
       "</div>"
      ],
      "text/plain": [
       "   enrollee_id      city  city_development_index gender  \\\n",
       "0         8949  city_103                   0.920   Male   \n",
       "1        29725   city_40                   0.776   Male   \n",
       "2        11561   city_21                   0.624    NaN   \n",
       "3        33241  city_115                   0.789    NaN   \n",
       "4          666  city_162                   0.767   Male   \n",
       "\n",
       "       relevent_experience enrolled_university education_level  \\\n",
       "0  Has relevent experience       no_enrollment        Graduate   \n",
       "1   No relevent experience       no_enrollment        Graduate   \n",
       "2   No relevent experience    Full time course        Graduate   \n",
       "3   No relevent experience                 NaN        Graduate   \n",
       "4  Has relevent experience       no_enrollment         Masters   \n",
       "\n",
       "  major_discipline experience company_size    company_type last_new_job  \\\n",
       "0             STEM        >20          NaN             NaN            1   \n",
       "1             STEM         15        50-99         Pvt Ltd           >4   \n",
       "2             STEM          5          NaN             NaN        never   \n",
       "3  Business Degree         <1          NaN         Pvt Ltd        never   \n",
       "4             STEM        >20        50-99  Funded Startup            4   \n",
       "\n",
       "   training_hours  target  \n",
       "0              36     1.0  \n",
       "1              47     0.0  \n",
       "2              83     0.0  \n",
       "3              52     1.0  \n",
       "4               8     0.0  "
      ]
     },
     "execution_count": 2,
     "metadata": {},
     "output_type": "execute_result"
    }
   ],
   "source": [
    "data_train=pd.read_csv('aug_train.csv')\n",
    "data_test=pd.read_csv('aug_test.csv')\n",
    "data_train.head()"
   ]
  },
  {
   "cell_type": "code",
   "execution_count": 3,
   "metadata": {},
   "outputs": [
    {
     "data": {
      "text/plain": [
       "<matplotlib.axes._subplots.AxesSubplot at 0x197c708dac0>"
      ]
     },
     "execution_count": 3,
     "metadata": {},
     "output_type": "execute_result"
    },
    {
     "data": {
      "image/png": "[encoded data removed]",
      "text/plain": [
       "<Figure size 432x288 with 1 Axes>"
      ]
     },
     "metadata": {
      "needs_background": "light"
     },
     "output_type": "display_data"
    }
   ],
   "source": [
    "import matplotlib.pyplot as plt\n",
    "import seaborn as sns\n",
    "sns.countplot(data_train['education_level'],hue=data_train['relevent_experience'])\n"
   ]
  },
  {
   "cell_type": "code",
   "execution_count": 4,
   "metadata": {},
   "outputs": [
    {
     "data": {
      "image/png": "[encoded data removed]",
      "text/plain": [
       "<Figure size 432x288 with 1 Axes>"
      ]
     },
     "metadata": {
      "needs_background": "light"
     },
     "output_type": "display_data"
    }
   ],
   "source": [
    "plt.figure()\n",
    "sns.countplot(x = data_train['gender'])\n",
    "plt.show()"
   ]
  },
  {
   "cell_type": "code",
   "execution_count": 5,
   "metadata": {},
   "outputs": [
    {
     "name": "stdout",
     "output_type": "stream",
     "text": [
      "city ['city_103' 'city_40' 'city_21' 'city_115' 'city_162' 'city_176'\n",
      " 'city_160' 'city_46' 'city_61' 'city_114' 'city_13' 'city_159' 'city_102'\n",
      " 'city_67' 'city_100' 'city_16' 'city_71' 'city_104' 'city_64' 'city_101'\n",
      " 'city_83' 'city_105' 'city_73' 'city_75' 'city_41' 'city_11' 'city_93'\n",
      " 'city_90' 'city_36' 'city_20' 'city_57' 'city_152' 'city_19' 'city_65'\n",
      " 'city_74' 'city_173' 'city_136' 'city_98' 'city_97' 'city_50' 'city_138'\n",
      " 'city_82' 'city_157' 'city_89' 'city_150' 'city_70' 'city_175' 'city_94'\n",
      " 'city_28' 'city_59' 'city_165' 'city_145' 'city_142' 'city_26' 'city_12'\n",
      " 'city_37' 'city_43' 'city_116' 'city_23' 'city_99' 'city_149' 'city_10'\n",
      " 'city_45' 'city_80' 'city_128' 'city_158' 'city_123' 'city_7' 'city_72'\n",
      " 'city_106' 'city_143' 'city_78' 'city_109' 'city_24' 'city_134' 'city_48'\n",
      " 'city_144' 'city_91' 'city_146' 'city_133' 'city_126' 'city_118' 'city_9'\n",
      " 'city_167' 'city_27' 'city_84' 'city_54' 'city_39' 'city_79' 'city_76'\n",
      " 'city_77' 'city_81' 'city_131' 'city_44' 'city_117' 'city_155' 'city_33'\n",
      " 'city_141' 'city_127' 'city_62' 'city_53' 'city_25' 'city_2' 'city_69'\n",
      " 'city_120' 'city_111' 'city_30' 'city_1' 'city_140' 'city_179' 'city_55'\n",
      " 'city_14' 'city_42' 'city_107' 'city_18' 'city_139' 'city_180' 'city_166'\n",
      " 'city_121' 'city_129' 'city_8' 'city_31' 'city_171']\n",
      "gender ['Male' nan 'Female' 'Other']\n",
      "relevent_experience ['Has relevent experience' 'No relevent experience']\n",
      "enrolled_university ['no_enrollment' 'Full time course' nan 'Part time course']\n",
      "education_level ['Graduate' 'Masters' 'High School' nan 'Phd' 'Primary School']\n",
      "major_discipline ['STEM' 'Business Degree' nan 'Arts' 'Humanities' 'No Major' 'Other']\n",
      "experience ['>20' '15' '5' '<1' '11' '13' '7' '17' '2' '16' '1' '4' '10' '14' '18'\n",
      " '19' '12' '3' '6' '9' '8' '20' nan]\n",
      "company_size [nan '50-99' '<10' '10000+' '5000-9999' '1000-4999' '10/49' '100-500'\n",
      " '500-999']\n",
      "company_type [nan 'Pvt Ltd' 'Funded Startup' 'Early Stage Startup' 'Other'\n",
      " 'Public Sector' 'NGO']\n",
      "last_new_job ['1' '>4' 'never' '4' '3' '2' nan]\n"
     ]
    }
   ],
   "source": [
    "for i in data_train:\n",
    "    if data_train[i].dtype == 'object':\n",
    "        print(i,data_train[i].unique())"
   ]
  },
  {
   "cell_type": "code",
   "execution_count": 3,
   "metadata": {},
   "outputs": [],
   "source": [
    "from sklearn.impute import SimpleImputer\n",
    "import numpy as np\n",
    "for i in data_train:\n",
    "    if data_train[i].isna().sum()>0:\n",
    "        imr=SimpleImputer(missing_values=np.nan,strategy='most_frequent')\n",
    "        imr=imr.fit(data_train[[i]])\n",
    "        imputed_data=imr.transform(data_train[[i]])\n",
    "        data_train[i]=imputed_data"
   ]
  },
  {
   "cell_type": "code",
   "execution_count": 4,
   "metadata": {},
   "outputs": [],
   "source": [
    "from sklearn.preprocessing import LabelEncoder\n",
    "for c in data_train.columns:\n",
    "    le = LabelEncoder()\n",
    "    if data_train.dtypes[c] == object:\n",
    "        le.fit(data_train[c].astype(str))\n",
    "        data_train[c] = le.transform(data_train[c].astype(str))"
   ]
  },
  {
   "cell_type": "code",
   "execution_count": 5,
   "metadata": {},
   "outputs": [
    {
     "name": "stdout",
     "output_type": "stream",
     "text": [
      "0.0    14381\n",
      "1.0     4777\n",
      "Name: target, dtype: int64\n"
     ]
    }
   ],
   "source": [
    "y=data_train['target']\n",
    "X=data_train.drop(['target','enrollee_id'],axis=1)\n",
    "print(y.value_counts())"
   ]
  },
  {
   "cell_type": "code",
   "execution_count": 6,
   "metadata": {},
   "outputs": [
    {
     "data": {
      "text/html": [
       "<div>\n",
       "<style scoped>\n",
       "    .dataframe tbody tr th:only-of-type {\n",
       "        vertical-align: middle;\n",
       "    }\n",
       "\n",
       "    .dataframe tbody tr th {\n",
       "        vertical-align: top;\n",
       "    }\n",
       "\n",
       "    .dataframe thead th {\n",
       "        text-align: right;\n",
       "    }\n",
       "</style>\n",
       "<table border=\"1\" class=\"dataframe\">\n",
       "  <thead>\n",
       "    <tr style=\"text-align: right;\">\n",
       "      <th></th>\n",
       "      <th>city</th>\n",
       "      <th>city_development_index</th>\n",
       "      <th>gender</th>\n",
       "      <th>relevent_experience</th>\n",
       "      <th>enrolled_university</th>\n",
       "      <th>education_level</th>\n",
       "      <th>major_discipline</th>\n",
       "      <th>experience</th>\n",
       "      <th>company_size</th>\n",
       "      <th>company_type</th>\n",
       "      <th>last_new_job</th>\n",
       "      <th>training_hours</th>\n",
       "    </tr>\n",
       "  </thead>\n",
       "  <tbody>\n",
       "    <tr>\n",
       "      <th>0</th>\n",
       "      <td>-1.105203</td>\n",
       "      <td>0.738919</td>\n",
       "      <td>0.204235</td>\n",
       "      <td>-0.623752</td>\n",
       "      <td>0.568358</td>\n",
       "      <td>-0.692508</td>\n",
       "      <td>0.296787</td>\n",
       "      <td>1.219489</td>\n",
       "      <td>0.361261</td>\n",
       "      <td>0.393556</td>\n",
       "      <td>-0.902189</td>\n",
       "      <td>-0.488985</td>\n",
       "    </tr>\n",
       "    <tr>\n",
       "      <th>1</th>\n",
       "      <td>0.925077</td>\n",
       "      <td>-0.428410</td>\n",
       "      <td>0.204235</td>\n",
       "      <td>1.603202</td>\n",
       "      <td>0.568358</td>\n",
       "      <td>-0.692508</td>\n",
       "      <td>0.296787</td>\n",
       "      <td>-1.050773</td>\n",
       "      <td>0.361261</td>\n",
       "      <td>0.393556</td>\n",
       "      <td>1.164364</td>\n",
       "      <td>-0.305825</td>\n",
       "    </tr>\n",
       "    <tr>\n",
       "      <th>2</th>\n",
       "      <td>0.558499</td>\n",
       "      <td>-1.660590</td>\n",
       "      <td>0.204235</td>\n",
       "      <td>1.603202</td>\n",
       "      <td>-1.931321</td>\n",
       "      <td>-0.692508</td>\n",
       "      <td>0.296787</td>\n",
       "      <td>0.311384</td>\n",
       "      <td>0.361261</td>\n",
       "      <td>0.393556</td>\n",
       "      <td>1.681003</td>\n",
       "      <td>0.293607</td>\n",
       "    </tr>\n",
       "    <tr>\n",
       "      <th>3</th>\n",
       "      <td>-0.851418</td>\n",
       "      <td>-0.323026</td>\n",
       "      <td>0.204235</td>\n",
       "      <td>1.603202</td>\n",
       "      <td>0.568358</td>\n",
       "      <td>-0.692508</td>\n",
       "      <td>-3.909499</td>\n",
       "      <td>1.068138</td>\n",
       "      <td>0.361261</td>\n",
       "      <td>0.393556</td>\n",
       "      <td>1.681003</td>\n",
       "      <td>-0.222571</td>\n",
       "    </tr>\n",
       "    <tr>\n",
       "      <th>4</th>\n",
       "      <td>0.163722</td>\n",
       "      <td>-0.501368</td>\n",
       "      <td>0.204235</td>\n",
       "      <td>-0.623752</td>\n",
       "      <td>0.568358</td>\n",
       "      <td>1.315676</td>\n",
       "      <td>0.296787</td>\n",
       "      <td>1.219489</td>\n",
       "      <td>0.361261</td>\n",
       "      <td>-2.690501</td>\n",
       "      <td>0.647726</td>\n",
       "      <td>-0.955209</td>\n",
       "    </tr>\n",
       "    <tr>\n",
       "      <th>5</th>\n",
       "      <td>0.361110</td>\n",
       "      <td>-0.525687</td>\n",
       "      <td>0.204235</td>\n",
       "      <td>-0.623752</td>\n",
       "      <td>-0.681482</td>\n",
       "      <td>-0.692508</td>\n",
       "      <td>0.296787</td>\n",
       "      <td>-1.656176</td>\n",
       "      <td>0.361261</td>\n",
       "      <td>0.393556</td>\n",
       "      <td>-0.902189</td>\n",
       "      <td>-0.688795</td>\n",
       "    </tr>\n",
       "    <tr>\n",
       "      <th>6</th>\n",
       "      <td>0.135524</td>\n",
       "      <td>0.738919</td>\n",
       "      <td>0.204235</td>\n",
       "      <td>-0.623752</td>\n",
       "      <td>0.568358</td>\n",
       "      <td>0.311584</td>\n",
       "      <td>0.296787</td>\n",
       "      <td>0.311384</td>\n",
       "      <td>0.361261</td>\n",
       "      <td>-2.690501</td>\n",
       "      <td>-0.902189</td>\n",
       "      <td>-0.688795</td>\n",
       "    </tr>\n",
       "    <tr>\n",
       "      <th>7</th>\n",
       "      <td>1.094267</td>\n",
       "      <td>-0.541900</td>\n",
       "      <td>0.204235</td>\n",
       "      <td>-0.623752</td>\n",
       "      <td>0.568358</td>\n",
       "      <td>-0.692508</td>\n",
       "      <td>0.296787</td>\n",
       "      <td>-1.353475</td>\n",
       "      <td>2.043168</td>\n",
       "      <td>0.393556</td>\n",
       "      <td>1.164364</td>\n",
       "      <td>-0.788700</td>\n",
       "    </tr>\n",
       "    <tr>\n",
       "      <th>8</th>\n",
       "      <td>-1.105203</td>\n",
       "      <td>0.738919</td>\n",
       "      <td>0.204235</td>\n",
       "      <td>-0.623752</td>\n",
       "      <td>0.568358</td>\n",
       "      <td>-0.692508</td>\n",
       "      <td>0.296787</td>\n",
       "      <td>0.614085</td>\n",
       "      <td>0.361261</td>\n",
       "      <td>0.393556</td>\n",
       "      <td>-0.902189</td>\n",
       "      <td>-0.322476</td>\n",
       "    </tr>\n",
       "    <tr>\n",
       "      <th>9</th>\n",
       "      <td>-1.105203</td>\n",
       "      <td>0.738919</td>\n",
       "      <td>0.204235</td>\n",
       "      <td>-0.623752</td>\n",
       "      <td>0.568358</td>\n",
       "      <td>-0.692508</td>\n",
       "      <td>0.296787</td>\n",
       "      <td>-0.748072</td>\n",
       "      <td>-0.199374</td>\n",
       "      <td>0.393556</td>\n",
       "      <td>1.164364</td>\n",
       "      <td>0.959642</td>\n",
       "    </tr>\n",
       "  </tbody>\n",
       "</table>\n",
       "</div>"
      ],
      "text/plain": [
       "       city  city_development_index    gender  relevent_experience  \\\n",
       "0 -1.105203                0.738919  0.204235            -0.623752   \n",
       "1  0.925077               -0.428410  0.204235             1.603202   \n",
       "2  0.558499               -1.660590  0.204235             1.603202   \n",
       "3 -0.851418               -0.323026  0.204235             1.603202   \n",
       "4  0.163722               -0.501368  0.204235            -0.623752   \n",
       "5  0.361110               -0.525687  0.204235            -0.623752   \n",
       "6  0.135524                0.738919  0.204235            -0.623752   \n",
       "7  1.094267               -0.541900  0.204235            -0.623752   \n",
       "8 -1.105203                0.738919  0.204235            -0.623752   \n",
       "9 -1.105203                0.738919  0.204235            -0.623752   \n",
       "\n",
       "   enrolled_university  education_level  major_discipline  experience  \\\n",
       "0             0.568358        -0.692508          0.296787    1.219489   \n",
       "1             0.568358        -0.692508          0.296787   -1.050773   \n",
       "2            -1.931321        -0.692508          0.296787    0.311384   \n",
       "3             0.568358        -0.692508         -3.909499    1.068138   \n",
       "4             0.568358         1.315676          0.296787    1.219489   \n",
       "5            -0.681482        -0.692508          0.296787   -1.656176   \n",
       "6             0.568358         0.311584          0.296787    0.311384   \n",
       "7             0.568358        -0.692508          0.296787   -1.353475   \n",
       "8             0.568358        -0.692508          0.296787    0.614085   \n",
       "9             0.568358        -0.692508          0.296787   -0.748072   \n",
       "\n",
       "   company_size  company_type  last_new_job  training_hours  \n",
       "0      0.361261      0.393556     -0.902189       -0.488985  \n",
       "1      0.361261      0.393556      1.164364       -0.305825  \n",
       "2      0.361261      0.393556      1.681003        0.293607  \n",
       "3      0.361261      0.393556      1.681003       -0.222571  \n",
       "4      0.361261     -2.690501      0.647726       -0.955209  \n",
       "5      0.361261      0.393556     -0.902189       -0.688795  \n",
       "6      0.361261     -2.690501     -0.902189       -0.688795  \n",
       "7      2.043168      0.393556      1.164364       -0.788700  \n",
       "8      0.361261      0.393556     -0.902189       -0.322476  \n",
       "9     -0.199374      0.393556      1.164364        0.959642  "
      ]
     },
     "execution_count": 6,
     "metadata": {},
     "output_type": "execute_result"
    }
   ],
   "source": [
    "from sklearn import preprocessing\n",
    "norm = preprocessing.StandardScaler()\n",
    "ndf=norm.fit_transform(X)\n",
    "X = pd.DataFrame(ndf, index=X.index, columns=X.columns)\n",
    "X.head(10)"
   ]
  },
  {
   "cell_type": "code",
   "execution_count": 7,
   "metadata": {},
   "outputs": [],
   "source": [
    "# Due to the presence of imblananced dataset where target 0 > target 1 which can lead to overfitting, we perform ADASYN method\n",
    "from imblearn.over_sampling import ADASYN \n",
    "X_resampled, y_resampled = ADASYN().fit_resample(X, y)"
   ]
  },
  {
   "cell_type": "code",
   "execution_count": 8,
   "metadata": {},
   "outputs": [],
   "source": [
    "from sklearn.model_selection import train_test_split\n",
    "X_train,X_test,y_train,y_test =train_test_split(X_resampled,y_resampled,train_size=0.7, random_state=42)"
   ]
  },
  {
   "cell_type": "code",
   "execution_count": 54,
   "metadata": {},
   "outputs": [
    {
     "data": {
      "text/plain": [
       "LGBMClassifier(metric='auc', objective='binary')"
      ]
     },
     "execution_count": 54,
     "metadata": {},
     "output_type": "execute_result"
    }
   ],
   "source": [
    "import lightgbm as lgb\n",
    "\n",
    "clf=lgb.LGBMClassifier(learning_rate=0.1,boosting_type='gbdt', objective='binary', metric='auc')\n",
    "# default num_leaves=31, max_depth of trees=-1 \n",
    "clf.fit(X_train,y_train) "
   ]
  },
  {
   "cell_type": "code",
   "execution_count": 55,
   "metadata": {},
   "outputs": [
    {
     "name": "stdout",
     "output_type": "stream",
     "text": [
      "              precision    recall  f1-score   support\n",
      "\n",
      "         0.0       0.85      0.83      0.84      4315\n",
      "         1.0       0.84      0.85      0.84      4265\n",
      "\n",
      "    accuracy                           0.84      8580\n",
      "   macro avg       0.84      0.84      0.84      8580\n",
      "weighted avg       0.84      0.84      0.84      8580\n",
      "\n"
     ]
    }
   ],
   "source": [
    "y_pred=clf.predict(X_test)\n",
    "from sklearn.metrics import classification_report\n",
    "print(classification_report(y_test, y_pred))"
   ]
  },
  {
   "cell_type": "code",
   "execution_count": 56,
   "metadata": {},
   "outputs": [
    {
     "data": {
      "text/plain": [
       "0.8409090909090909"
      ]
     },
     "execution_count": 56,
     "metadata": {},
     "output_type": "execute_result"
    }
   ],
   "source": [
    "from sklearn.metrics import accuracy_score\n",
    "accuracy_score(y_test, y_pred)"
   ]
  },
  {
   "cell_type": "code",
   "execution_count": 57,
   "metadata": {},
   "outputs": [
    {
     "data": {
      "text/plain": [
       "0.840945120418834"
      ]
     },
     "execution_count": 57,
     "metadata": {},
     "output_type": "execute_result"
    }
   ],
   "source": [
    "from sklearn.metrics import roc_auc_score\n",
    "roc_auc_score(y_test,y_pred)"
   ]
  },
  {
   "cell_type": "code",
   "execution_count": 137,
   "metadata": {},
   "outputs": [
    {
     "name": "stdout",
     "output_type": "stream",
     "text": [
      "Fitting 10 folds for each of 10 candidates, totalling 100 fits\n"
     ]
    },
    {
     "data": {
      "text/plain": [
       "RandomizedSearchCV(cv=10, estimator=LGBMClassifier(), n_jobs=-1,\n",
       "                   param_distributions={'boosting_type': ['gbdt', 'goss'],\n",
       "                                        'learning_rate': [0.025, 0.05, 0.1],\n",
       "                                        'max_depth': [3, 4, 5, 6, 7, 8, 9, 10,\n",
       "                                                      -1],\n",
       "                                        'metric': ['auc'],\n",
       "                                        'min_split_gain': [0.01],\n",
       "                                        'num_leaves': [50, 100, 150, 200, 250],\n",
       "                                        'objective': ['binary'],\n",
       "                                        'random_state': [42]},\n",
       "                   verbose=3)"
      ]
     },
     "execution_count": 137,
     "metadata": {},
     "output_type": "execute_result"
    }
   ],
   "source": [
    "# Using RandomizedSearchCV for finding the best combination of hyperparameter values.\n",
    "from sklearn.model_selection import RandomizedSearchCV\n",
    "\n",
    "params = {\n",
    "    'learning_rate': [0.025, 0.05,0.1],\n",
    "    'num_leaves': [50,100,150,200,250],\n",
    "    'boosting_type' : ['gbdt', 'goss'],\n",
    "    'objective' : ['binary'], #for performing binary classification\n",
    "    'max_depth' : [3,4,5,6,7,8,9,10,-1], # -1 means no limit\n",
    "    'random_state' : [42], \n",
    "    'min_split_gain' : [0.01],\n",
    "    'metric':['auc']\n",
    "    }\n",
    "clf = lgb.LGBMClassifier()\n",
    "RSCV = RandomizedSearchCV(clf,params,verbose=3,cv=10,n_jobs = -1)\n",
    "RSCV.fit(X_train,y_train)"
   ]
  },
  {
   "cell_type": "code",
   "execution_count": 138,
   "metadata": {},
   "outputs": [
    {
     "name": "stdout",
     "output_type": "stream",
     "text": [
      "              precision    recall  f1-score   support\n",
      "\n",
      "         0.0       0.85      0.84      0.84      4315\n",
      "         1.0       0.84      0.85      0.84      4265\n",
      "\n",
      "    accuracy                           0.84      8580\n",
      "   macro avg       0.84      0.84      0.84      8580\n",
      "weighted avg       0.84      0.84      0.84      8580\n",
      "\n"
     ]
    }
   ],
   "source": [
    "y_pred=RSCV.predict(X_test)\n",
    "from sklearn.metrics import classification_report\n",
    "print(classification_report(y_test, y_pred))"
   ]
  },
  {
   "cell_type": "code",
   "execution_count": 139,
   "metadata": {},
   "outputs": [
    {
     "data": {
      "text/plain": [
       "0.8446386946386947"
      ]
     },
     "execution_count": 139,
     "metadata": {},
     "output_type": "execute_result"
    }
   ],
   "source": [
    "from sklearn.metrics import accuracy_score\n",
    "accuracy_score(y_test, y_pred)"
   ]
  },
  {
   "cell_type": "code",
   "execution_count": 140,
   "metadata": {},
   "outputs": [
    {
     "name": "stdout",
     "output_type": "stream",
     "text": [
      "LGBMClassifier(learning_rate=0.05, metric='auc', min_split_gain=0.01,\n",
      "               num_leaves=200, objective='binary', random_state=42)\n"
     ]
    }
   ],
   "source": [
    "print(RSCV.best_estimator_)  "
   ]
  },
  {
   "cell_type": "code",
   "execution_count": 62,
   "metadata": {},
   "outputs": [
    {
     "name": "stdout",
     "output_type": "stream",
     "text": [
      "<class 'pandas.core.frame.DataFrame'>\n",
      "RangeIndex: 2129 entries, 0 to 2128\n",
      "Data columns (total 13 columns):\n",
      " #   Column                  Non-Null Count  Dtype  \n",
      "---  ------                  --------------  -----  \n",
      " 0   enrollee_id             2129 non-null   int64  \n",
      " 1   city                    2129 non-null   object \n",
      " 2   city_development_index  2129 non-null   float64\n",
      " 3   gender                  1621 non-null   object \n",
      " 4   relevent_experience     2129 non-null   object \n",
      " 5   enrolled_university     2098 non-null   object \n",
      " 6   education_level         2077 non-null   object \n",
      " 7   major_discipline        1817 non-null   object \n",
      " 8   experience              2124 non-null   object \n",
      " 9   company_size            1507 non-null   object \n",
      " 10  company_type            1495 non-null   object \n",
      " 11  last_new_job            2089 non-null   object \n",
      " 12  training_hours          2129 non-null   int64  \n",
      "dtypes: float64(1), int64(2), object(10)\n",
      "memory usage: 216.4+ KB\n"
     ]
    }
   ],
   "source": [
    "data_test.info()"
   ]
  },
  {
   "cell_type": "code",
   "execution_count": 63,
   "metadata": {},
   "outputs": [
    {
     "data": {
      "text/plain": [
       "enrollee_id                 0\n",
       "city                        0\n",
       "city_development_index      0\n",
       "gender                    508\n",
       "relevent_experience         0\n",
       "enrolled_university        31\n",
       "education_level            52\n",
       "major_discipline          312\n",
       "experience                  5\n",
       "company_size              622\n",
       "company_type              634\n",
       "last_new_job               40\n",
       "training_hours              0\n",
       "dtype: int64"
      ]
     },
     "execution_count": 63,
     "metadata": {},
     "output_type": "execute_result"
    }
   ],
   "source": [
    "data_test.isna().sum()"
   ]
  },
  {
   "cell_type": "code",
   "execution_count": 64,
   "metadata": {},
   "outputs": [],
   "source": [
    "from sklearn.impute import SimpleImputer\n",
    "import numpy as np\n",
    "for i in data_test:\n",
    "    if data_test[i].isna().sum()>0:\n",
    "        imr=SimpleImputer(missing_values=np.nan,strategy='most_frequent')\n",
    "        imr=imr.fit(data_test[[i]])\n",
    "        imputed_data=imr.transform(data_test[[i]])\n",
    "        data_test[i]=imputed_data"
   ]
  },
  {
   "cell_type": "code",
   "execution_count": 65,
   "metadata": {},
   "outputs": [],
   "source": [
    "from sklearn.preprocessing import LabelEncoder\n",
    "for c in data_test.columns:\n",
    "    le = LabelEncoder()\n",
    "    if data_test.dtypes[c] == object:\n",
    "        le.fit(data_test[c].astype(str))\n",
    "        data_test[c] = le.transform(data_test[c].astype(str))"
   ]
  },
  {
   "cell_type": "code",
   "execution_count": 66,
   "metadata": {},
   "outputs": [],
   "source": [
    "data_test['target']=''\n",
    "X=data_test.drop(['target','enrollee_id'],axis=1)"
   ]
  },
  {
   "cell_type": "code",
   "execution_count": 67,
   "metadata": {},
   "outputs": [
    {
     "data": {
      "text/html": [
       "<div>\n",
       "<style scoped>\n",
       "    .dataframe tbody tr th:only-of-type {\n",
       "        vertical-align: middle;\n",
       "    }\n",
       "\n",
       "    .dataframe tbody tr th {\n",
       "        vertical-align: top;\n",
       "    }\n",
       "\n",
       "    .dataframe thead th {\n",
       "        text-align: right;\n",
       "    }\n",
       "</style>\n",
       "<table border=\"1\" class=\"dataframe\">\n",
       "  <thead>\n",
       "    <tr style=\"text-align: right;\">\n",
       "      <th></th>\n",
       "      <th>city</th>\n",
       "      <th>city_development_index</th>\n",
       "      <th>gender</th>\n",
       "      <th>relevent_experience</th>\n",
       "      <th>enrolled_university</th>\n",
       "      <th>education_level</th>\n",
       "      <th>major_discipline</th>\n",
       "      <th>experience</th>\n",
       "      <th>company_size</th>\n",
       "      <th>company_type</th>\n",
       "      <th>last_new_job</th>\n",
       "      <th>training_hours</th>\n",
       "    </tr>\n",
       "  </thead>\n",
       "  <tbody>\n",
       "    <tr>\n",
       "      <th>0</th>\n",
       "      <td>1.036680</td>\n",
       "      <td>0.016126</td>\n",
       "      <td>0.196708</td>\n",
       "      <td>-0.630065</td>\n",
       "      <td>-1.878304</td>\n",
       "      <td>-0.705098</td>\n",
       "      <td>0.291135</td>\n",
       "      <td>0.888727</td>\n",
       "      <td>1.987886</td>\n",
       "      <td>0.383779</td>\n",
       "      <td>-0.904106</td>\n",
       "      <td>-0.730319</td>\n",
       "    </tr>\n",
       "    <tr>\n",
       "      <th>1</th>\n",
       "      <td>-1.103659</td>\n",
       "      <td>0.759860</td>\n",
       "      <td>-3.509406</td>\n",
       "      <td>-0.630065</td>\n",
       "      <td>0.587115</td>\n",
       "      <td>-0.705098</td>\n",
       "      <td>0.291135</td>\n",
       "      <td>0.282188</td>\n",
       "      <td>0.364069</td>\n",
       "      <td>0.383779</td>\n",
       "      <td>-0.904106</td>\n",
       "      <td>0.548230</td>\n",
       "    </tr>\n",
       "    <tr>\n",
       "      <th>2</th>\n",
       "      <td>0.568480</td>\n",
       "      <td>-1.607295</td>\n",
       "      <td>0.196708</td>\n",
       "      <td>1.587138</td>\n",
       "      <td>0.587115</td>\n",
       "      <td>0.282503</td>\n",
       "      <td>0.291135</td>\n",
       "      <td>1.040362</td>\n",
       "      <td>0.364069</td>\n",
       "      <td>0.383779</td>\n",
       "      <td>1.720439</td>\n",
       "      <td>-0.829946</td>\n",
       "    </tr>\n",
       "    <tr>\n",
       "      <th>3</th>\n",
       "      <td>-0.535132</td>\n",
       "      <td>0.016126</td>\n",
       "      <td>0.196708</td>\n",
       "      <td>-0.630065</td>\n",
       "      <td>0.587115</td>\n",
       "      <td>1.270103</td>\n",
       "      <td>0.291135</td>\n",
       "      <td>-1.689066</td>\n",
       "      <td>-1.801021</td>\n",
       "      <td>0.383779</td>\n",
       "      <td>-0.904106</td>\n",
       "      <td>-0.431437</td>\n",
       "    </tr>\n",
       "    <tr>\n",
       "      <th>4</th>\n",
       "      <td>-1.103659</td>\n",
       "      <td>0.759860</td>\n",
       "      <td>0.196708</td>\n",
       "      <td>-0.630065</td>\n",
       "      <td>0.587115</td>\n",
       "      <td>-0.705098</td>\n",
       "      <td>0.291135</td>\n",
       "      <td>1.191997</td>\n",
       "      <td>-0.177204</td>\n",
       "      <td>0.383779</td>\n",
       "      <td>1.195530</td>\n",
       "      <td>0.116513</td>\n",
       "    </tr>\n",
       "    <tr>\n",
       "      <th>5</th>\n",
       "      <td>0.601923</td>\n",
       "      <td>0.591920</td>\n",
       "      <td>0.196708</td>\n",
       "      <td>1.587138</td>\n",
       "      <td>-0.645595</td>\n",
       "      <td>1.270103</td>\n",
       "      <td>0.291135</td>\n",
       "      <td>-1.840701</td>\n",
       "      <td>0.364069</td>\n",
       "      <td>0.383779</td>\n",
       "      <td>-0.379197</td>\n",
       "      <td>-0.879760</td>\n",
       "    </tr>\n",
       "    <tr>\n",
       "      <th>6</th>\n",
       "      <td>0.568480</td>\n",
       "      <td>-1.607295</td>\n",
       "      <td>0.196708</td>\n",
       "      <td>-0.630065</td>\n",
       "      <td>0.587115</td>\n",
       "      <td>-0.705098</td>\n",
       "      <td>0.291135</td>\n",
       "      <td>1.040362</td>\n",
       "      <td>-1.259748</td>\n",
       "      <td>0.383779</td>\n",
       "      <td>-0.904106</td>\n",
       "      <td>-0.896364</td>\n",
       "    </tr>\n",
       "    <tr>\n",
       "      <th>7</th>\n",
       "      <td>0.133724</td>\n",
       "      <td>0.759860</td>\n",
       "      <td>-3.509406</td>\n",
       "      <td>-0.630065</td>\n",
       "      <td>0.587115</td>\n",
       "      <td>-0.705098</td>\n",
       "      <td>0.291135</td>\n",
       "      <td>1.191997</td>\n",
       "      <td>0.364069</td>\n",
       "      <td>0.383779</td>\n",
       "      <td>1.195530</td>\n",
       "      <td>0.265953</td>\n",
       "    </tr>\n",
       "    <tr>\n",
       "      <th>8</th>\n",
       "      <td>0.300938</td>\n",
       "      <td>0.423980</td>\n",
       "      <td>0.196708</td>\n",
       "      <td>-0.630065</td>\n",
       "      <td>0.587115</td>\n",
       "      <td>-0.705098</td>\n",
       "      <td>0.291135</td>\n",
       "      <td>-1.234161</td>\n",
       "      <td>0.364069</td>\n",
       "      <td>0.383779</td>\n",
       "      <td>0.670621</td>\n",
       "      <td>-1.045805</td>\n",
       "    </tr>\n",
       "    <tr>\n",
       "      <th>9</th>\n",
       "      <td>0.568480</td>\n",
       "      <td>-1.607295</td>\n",
       "      <td>0.196708</td>\n",
       "      <td>-0.630065</td>\n",
       "      <td>-1.878304</td>\n",
       "      <td>-0.705098</td>\n",
       "      <td>0.291135</td>\n",
       "      <td>-0.021082</td>\n",
       "      <td>0.364069</td>\n",
       "      <td>-2.811002</td>\n",
       "      <td>-0.904106</td>\n",
       "      <td>-1.012596</td>\n",
       "    </tr>\n",
       "  </tbody>\n",
       "</table>\n",
       "</div>"
      ],
      "text/plain": [
       "       city  city_development_index    gender  relevent_experience  \\\n",
       "0  1.036680                0.016126  0.196708            -0.630065   \n",
       "1 -1.103659                0.759860 -3.509406            -0.630065   \n",
       "2  0.568480               -1.607295  0.196708             1.587138   \n",
       "3 -0.535132                0.016126  0.196708            -0.630065   \n",
       "4 -1.103659                0.759860  0.196708            -0.630065   \n",
       "5  0.601923                0.591920  0.196708             1.587138   \n",
       "6  0.568480               -1.607295  0.196708            -0.630065   \n",
       "7  0.133724                0.759860 -3.509406            -0.630065   \n",
       "8  0.300938                0.423980  0.196708            -0.630065   \n",
       "9  0.568480               -1.607295  0.196708            -0.630065   \n",
       "\n",
       "   enrolled_university  education_level  major_discipline  experience  \\\n",
       "0            -1.878304        -0.705098          0.291135    0.888727   \n",
       "1             0.587115        -0.705098          0.291135    0.282188   \n",
       "2             0.587115         0.282503          0.291135    1.040362   \n",
       "3             0.587115         1.270103          0.291135   -1.689066   \n",
       "4             0.587115        -0.705098          0.291135    1.191997   \n",
       "5            -0.645595         1.270103          0.291135   -1.840701   \n",
       "6             0.587115        -0.705098          0.291135    1.040362   \n",
       "7             0.587115        -0.705098          0.291135    1.191997   \n",
       "8             0.587115        -0.705098          0.291135   -1.234161   \n",
       "9            -1.878304        -0.705098          0.291135   -0.021082   \n",
       "\n",
       "   company_size  company_type  last_new_job  training_hours  \n",
       "0      1.987886      0.383779     -0.904106       -0.730319  \n",
       "1      0.364069      0.383779     -0.904106        0.548230  \n",
       "2      0.364069      0.383779      1.720439       -0.829946  \n",
       "3     -1.801021      0.383779     -0.904106       -0.431437  \n",
       "4     -0.177204      0.383779      1.195530        0.116513  \n",
       "5      0.364069      0.383779     -0.379197       -0.879760  \n",
       "6     -1.259748      0.383779     -0.904106       -0.896364  \n",
       "7      0.364069      0.383779      1.195530        0.265953  \n",
       "8      0.364069      0.383779      0.670621       -1.045805  \n",
       "9      0.364069     -2.811002     -0.904106       -1.012596  "
      ]
     },
     "execution_count": 67,
     "metadata": {},
     "output_type": "execute_result"
    }
   ],
   "source": [
    "from sklearn import preprocessing\n",
    "norm = preprocessing.StandardScaler()\n",
    "ndf=norm.fit_transform(X)\n",
    "X = pd.DataFrame(ndf, index=X.index, columns=X.columns)\n",
    "X.head(10)"
   ]
  },
  {
   "cell_type": "code",
   "execution_count": 68,
   "metadata": {},
   "outputs": [],
   "source": [
    "data_test['target']=RSCV.predict(X)"
   ]
  },
  {
   "cell_type": "code",
   "execution_count": 69,
   "metadata": {},
   "outputs": [],
   "source": [
    "from sklearn.linear_model import LogisticRegression\n",
    "from sklearn.naive_bayes import GaussianNB\n",
    "from sklearn.ensemble import RandomForestClassifier"
   ]
  },
  {
   "cell_type": "code",
   "execution_count": 70,
   "metadata": {},
   "outputs": [
    {
     "name": "stdout",
     "output_type": "stream",
     "text": [
      "              precision    recall  f1-score   support\n",
      "\n",
      "         0.0       0.64      0.68      0.66      4315\n",
      "         1.0       0.65      0.61      0.63      4265\n",
      "\n",
      "    accuracy                           0.64      8580\n",
      "   macro avg       0.64      0.64      0.64      8580\n",
      "weighted avg       0.64      0.64      0.64      8580\n",
      "\n"
     ]
    }
   ],
   "source": [
    "gb = GaussianNB()\n",
    "gb.fit(X_train,y_train)\n",
    "print(classification_report(y_test, gb.predict(X_test)))"
   ]
  },
  {
   "cell_type": "code",
   "execution_count": 98,
   "metadata": {},
   "outputs": [
    {
     "data": {
      "text/plain": [
       "0.6441724941724942"
      ]
     },
     "execution_count": 98,
     "metadata": {},
     "output_type": "execute_result"
    }
   ],
   "source": [
    "accuracy_score(y_test, gb.predict(X_test))"
   ]
  },
  {
   "cell_type": "code",
   "execution_count": 99,
   "metadata": {},
   "outputs": [
    {
     "name": "stdout",
     "output_type": "stream",
     "text": [
      "              precision    recall  f1-score   support\n",
      "\n",
      "         0.0       0.64      0.72      0.68      4315\n",
      "         1.0       0.67      0.59      0.63      4265\n",
      "\n",
      "    accuracy                           0.65      8580\n",
      "   macro avg       0.66      0.65      0.65      8580\n",
      "weighted avg       0.66      0.65      0.65      8580\n",
      "\n"
     ]
    }
   ],
   "source": [
    "lr = LogisticRegression()\n",
    "lr.fit(X_train,y_train)\n",
    "print(classification_report(y_test, lr.predict(X_test)))"
   ]
  },
  {
   "cell_type": "code",
   "execution_count": 100,
   "metadata": {},
   "outputs": [
    {
     "data": {
      "text/plain": [
       "0.6538461538461539"
      ]
     },
     "execution_count": 100,
     "metadata": {},
     "output_type": "execute_result"
    }
   ],
   "source": [
    "accuracy_score(y_test, lr.predict(X_test))"
   ]
  },
  {
   "cell_type": "code",
   "execution_count": 103,
   "metadata": {},
   "outputs": [
    {
     "name": "stdout",
     "output_type": "stream",
     "text": [
      "              precision    recall  f1-score   support\n",
      "\n",
      "         0.0       0.64      0.72      0.68      4315\n",
      "         1.0       0.67      0.59      0.63      4265\n",
      "\n",
      "    accuracy                           0.65      8580\n",
      "   macro avg       0.66      0.65      0.65      8580\n",
      "weighted avg       0.66      0.65      0.65      8580\n",
      "\n"
     ]
    }
   ],
   "source": [
    "lr=LogisticRegression(C=0.5, max_iter=500, multi_class='ovr',n_jobs=-1, warm_start=True)  \n",
    "#warm start is to reuse the solution of the previous call to fit as initialization\n",
    "lr.fit(X_train,y_train)\n",
    "print(classification_report(y_test, lr.predict(X_test)))"
   ]
  },
  {
   "cell_type": "code",
   "execution_count": 104,
   "metadata": {},
   "outputs": [
    {
     "data": {
      "text/plain": [
       "0.6538461538461539"
      ]
     },
     "execution_count": 104,
     "metadata": {},
     "output_type": "execute_result"
    }
   ],
   "source": [
    "accuracy_score(y_test, lr.predict(X_test))"
   ]
  },
  {
   "cell_type": "code",
   "execution_count": 77,
   "metadata": {},
   "outputs": [
    {
     "name": "stdout",
     "output_type": "stream",
     "text": [
      "              precision    recall  f1-score   support\n",
      "\n",
      "         0.0       0.84      0.83      0.84      4315\n",
      "         1.0       0.83      0.84      0.84      4265\n",
      "\n",
      "    accuracy                           0.84      8580\n",
      "   macro avg       0.84      0.84      0.84      8580\n",
      "weighted avg       0.84      0.84      0.84      8580\n",
      "\n"
     ]
    }
   ],
   "source": [
    "rfc = RandomForestClassifier() # default values max_depth=None\n",
    "rfc.fit(X_train,y_train)\n",
    "print(classification_report(y_test, rfc.predict(X_test)))"
   ]
  },
  {
   "cell_type": "code",
   "execution_count": 78,
   "metadata": {},
   "outputs": [
    {
     "data": {
      "text/plain": [
       "0.8357808857808858"
      ]
     },
     "execution_count": 78,
     "metadata": {},
     "output_type": "execute_result"
    }
   ],
   "source": [
    "accuracy_score(y_test, rfc.predict(X_test))"
   ]
  },
  {
   "cell_type": "code",
   "execution_count": 94,
   "metadata": {},
   "outputs": [
    {
     "name": "stdout",
     "output_type": "stream",
     "text": [
      "              precision    recall  f1-score   support\n",
      "\n",
      "         0.0       0.84      0.83      0.83      4315\n",
      "         1.0       0.83      0.84      0.83      4265\n",
      "\n",
      "    accuracy                           0.83      8580\n",
      "   macro avg       0.83      0.83      0.83      8580\n",
      "weighted avg       0.83      0.83      0.83      8580\n",
      "\n"
     ]
    }
   ],
   "source": [
    "rfc=RandomForestClassifier(max_depth=500, min_samples_split=2, max_features='sqrt')\n",
    "rfc.fit(X_train,y_train)\n",
    "print(classification_report(y_test, rfc.predict(X_test)))"
   ]
  },
  {
   "cell_type": "code",
   "execution_count": 95,
   "metadata": {},
   "outputs": [
    {
     "data": {
      "text/plain": [
       "0.8340326340326341"
      ]
     },
     "execution_count": 95,
     "metadata": {},
     "output_type": "execute_result"
    }
   ],
   "source": [
    "accuracy_score(y_test, rfc.predict(X_test))"
   ]
  },
  {
   "cell_type": "code",
   "execution_count": 96,
   "metadata": {},
   "outputs": [
    {
     "name": "stdout",
     "output_type": "stream",
     "text": [
      "              precision    recall  f1-score   support\n",
      "\n",
      "         0.0       0.85      0.83      0.84      4315\n",
      "         1.0       0.83      0.85      0.84      4265\n",
      "\n",
      "    accuracy                           0.84      8580\n",
      "   macro avg       0.84      0.84      0.84      8580\n",
      "weighted avg       0.84      0.84      0.84      8580\n",
      "\n"
     ]
    }
   ],
   "source": [
    "rfc=RandomForestClassifier(max_depth=100, min_samples_split=5, max_features='log2')\n",
    "rfc.fit(X_train,y_train)\n",
    "print(classification_report(y_test, rfc.predict(X_test)))"
   ]
  },
  {
   "cell_type": "code",
   "execution_count": 97,
   "metadata": {},
   "outputs": [
    {
     "data": {
      "text/plain": [
       "0.8390442890442891"
      ]
     },
     "execution_count": 97,
     "metadata": {},
     "output_type": "execute_result"
    }
   ],
   "source": [
    "accuracy_score(y_test, rfc.predict(X_test))"
   ]
  },
  {
   "cell_type": "code",
   "execution_count": 106,
   "metadata": {},
   "outputs": [
    {
     "name": "stdout",
     "output_type": "stream",
     "text": [
      "              precision    recall  f1-score   support\n",
      "\n",
      "         0.0       0.83      0.85      0.84      4315\n",
      "         1.0       0.84      0.83      0.84      4265\n",
      "\n",
      "    accuracy                           0.84      8580\n",
      "   macro avg       0.84      0.84      0.84      8580\n",
      "weighted avg       0.84      0.84      0.84      8580\n",
      "\n"
     ]
    }
   ],
   "source": [
    "from xgboost import XGBClassifier\n",
    "xgb = XGBClassifier(max_depth=3)\n",
    "xgb.fit(X_train,y_train)\n",
    "print(classification_report(y_test, xgb.predict(X_test)))"
   ]
  },
  {
   "cell_type": "code",
   "execution_count": 116,
   "metadata": {},
   "outputs": [
    {
     "name": "stdout",
     "output_type": "stream",
     "text": [
      "              precision    recall  f1-score   support\n",
      "\n",
      "         0.0       0.86      0.82      0.84      4315\n",
      "         1.0       0.82      0.86      0.84      4265\n",
      "\n",
      "    accuracy                           0.84      8580\n",
      "   macro avg       0.84      0.84      0.84      8580\n",
      "weighted avg       0.84      0.84      0.84      8580\n",
      "\n"
     ]
    }
   ],
   "source": [
    "\n",
    "xgb = XGBClassifier(max_depth=10, eta=0.05,gamma=0.01, objective='binary:logistic', eval_metric='error')\n",
    "xgb.fit(X_train,y_train)\n",
    "print(classification_report(y_test, xgb.predict(X_test)))"
   ]
  },
  {
   "cell_type": "code",
   "execution_count": 117,
   "metadata": {},
   "outputs": [
    {
     "data": {
      "text/plain": [
       "0.8388111888111888"
      ]
     },
     "execution_count": 117,
     "metadata": {},
     "output_type": "execute_result"
    }
   ],
   "source": [
    "accuracy_score(y_test, xgb.predict(X_test))"
   ]
  },
  {
   "cell_type": "code",
   "execution_count": 119,
   "metadata": {},
   "outputs": [
    {
     "name": "stdout",
     "output_type": "stream",
     "text": [
      "Fitting 5 folds for each of 10 candidates, totalling 50 fits\n"
     ]
    },
    {
     "data": {
      "text/plain": [
       "RandomizedSearchCV(cv=5,\n",
       "                   estimator=XGBClassifier(base_score=None, booster=None,\n",
       "                                           colsample_bylevel=None,\n",
       "                                           colsample_bynode=None,\n",
       "                                           colsample_bytree=None, gamma=None,\n",
       "                                           gpu_id=None, importance_type='gain',\n",
       "                                           interaction_constraints=None,\n",
       "                                           learning_rate=None,\n",
       "                                           max_delta_step=None, max_depth=None,\n",
       "                                           min_child_weight=None, missing=nan,\n",
       "                                           monotone_constraints=None,\n",
       "                                           n_estimators=100,...\n",
       "                                           num_parallel_tree=None,\n",
       "                                           random_state=None, reg_alpha=None,\n",
       "                                           reg_lambda=None,\n",
       "                                           scale_pos_weight=None,\n",
       "                                           subsample=None, tree_method=None,\n",
       "                                           validate_parameters=None,\n",
       "                                           verbosity=None),\n",
       "                   n_jobs=-1,\n",
       "                   param_distributions={'eta': [0.05, 0.1, 0.2, 0.3],\n",
       "                                        'eval_metric': ['error', 'auc'],\n",
       "                                        'max_depth': [3, 4, 5, 6, 7, 8, 9, 10],\n",
       "                                        'min_child_weight': [0.25, 0.05, 0.1],\n",
       "                                        'objective': ['binary:logistic']},\n",
       "                   verbose=3)"
      ]
     },
     "execution_count": 119,
     "metadata": {},
     "output_type": "execute_result"
    }
   ],
   "source": [
    "params={\n",
    "    'eta': [0.05, 0.1, 0.2, 0.3],\n",
    "    'max_depth': [3,4,5,6,7,8,9,10],\n",
    "    'eval_metric': ['error', 'auc'],\n",
    "    'objective': ['binary:logistic'],\n",
    "    'min_child_weight':[0.25,0.05,0.1]\n",
    "}\n",
    "xgb=XGBClassifier()\n",
    "RSCV = RandomizedSearchCV(xgb,params,verbose=3,cv=5,n_jobs= -1)\n",
    "RSCV.fit(X_train,y_train)"
   ]
  },
  {
   "cell_type": "code",
   "execution_count": 122,
   "metadata": {},
   "outputs": [
    {
     "name": "stdout",
     "output_type": "stream",
     "text": [
      "              precision    recall  f1-score   support\n",
      "\n",
      "         0.0       0.84      0.86      0.85      4315\n",
      "         1.0       0.85      0.83      0.84      4265\n",
      "\n",
      "    accuracy                           0.84      8580\n",
      "   macro avg       0.84      0.84      0.84      8580\n",
      "weighted avg       0.84      0.84      0.84      8580\n",
      "\n"
     ]
    }
   ],
   "source": [
    "print(classification_report(y_test, RSCV.predict(X_test)))"
   ]
  },
  {
   "cell_type": "code",
   "execution_count": 124,
   "metadata": {},
   "outputs": [
    {
     "data": {
      "text/plain": [
       "0.8437062937062937"
      ]
     },
     "execution_count": 124,
     "metadata": {},
     "output_type": "execute_result"
    }
   ],
   "source": [
    "accuracy_score(y_test, RSCV.predict(X_test))"
   ]
  },
  {
   "cell_type": "code",
   "execution_count": 125,
   "metadata": {},
   "outputs": [
    {
     "name": "stdout",
     "output_type": "stream",
     "text": [
      "XGBClassifier(base_score=0.5, booster='gbtree', colsample_bylevel=1,\n",
      "              colsample_bynode=1, colsample_bytree=1, eta=0.2,\n",
      "              eval_metric='error', gamma=0, gpu_id=-1, importance_type='gain',\n",
      "              interaction_constraints='', learning_rate=0.200000003,\n",
      "              max_delta_step=0, max_depth=10, min_child_weight=0.05,\n",
      "              missing=nan, monotone_constraints='()', n_estimators=100,\n",
      "              n_jobs=0, num_parallel_tree=1, random_state=0, reg_alpha=0,\n",
      "              reg_lambda=1, scale_pos_weight=1, subsample=1,\n",
      "              tree_method='exact', validate_parameters=1, verbosity=None)\n"
     ]
    }
   ],
   "source": [
    "print(RSCV.best_estimator_)"
   ]
  },
  {
   "cell_type": "code",
   "execution_count": 29,
   "metadata": {},
   "outputs": [],
   "source": [
    "import tensorflow as tf\n",
    "from tensorflow.keras.models import Sequential\n",
    "from tensorflow.keras.layers import Dense, Dropout, ThresholdedReLU"
   ]
  },
  {
   "cell_type": "code",
   "execution_count": 30,
   "metadata": {},
   "outputs": [],
   "source": [
    "norm = tf.keras.layers.LayerNormalization(\n",
    "    epsilon=0.001,\n",
    "    center=True,\n",
    "    scale=True\n",
    ")"
   ]
  },
  {
   "cell_type": "code",
   "execution_count": 31,
   "metadata": {},
   "outputs": [],
   "source": [
    "metrics = [\n",
    "      tf.keras.metrics.BinaryAccuracy(name='accuracy'),\n",
    "      tf.keras.metrics.Precision(name='precision'),\n",
    "      tf.keras.metrics.AUC(name='auc'),\n",
    "]"
   ]
  },
  {
   "cell_type": "code",
   "execution_count": 32,
   "metadata": {},
   "outputs": [],
   "source": [
    "model = Sequential()\n",
    "\n",
    "model.add(norm)\n",
    "model.add(ThresholdedReLU(theta=10)) # Theta is a threshold which determines the output result of a particular neuron.\n",
    "model.add(Dense(200, activation='relu'))\n",
    "model.add(Dense(100, activation='softmax'))\n",
    "model.add(Dense(1, activation='sigmoid'))"
   ]
  },
  {
   "cell_type": "code",
   "execution_count": 33,
   "metadata": {},
   "outputs": [],
   "source": [
    "model.compile(loss='binary_crossentropy', optimizer='adam', metrics=['accuracy'])\n"
   ]
  },
  {
   "cell_type": "code",
   "execution_count": 34,
   "metadata": {},
   "outputs": [
    {
     "name": "stdout",
     "output_type": "stream",
     "text": [
      "Epoch 1/10\n",
      "WARNING:tensorflow:Layer layer_normalization is casting an input tensor from dtype float64 to the layer's dtype of float32, which is new behavior in TensorFlow 2.  The layer has dtype float32 because its dtype defaults to floatx.\n",
      "\n",
      "If you intended to run this layer in float32, you can safely ignore this warning. If in doubt, this warning is likely only an issue if you are porting a TensorFlow 1.X model to TensorFlow 2.\n",
      "\n",
      "To change all layers to have dtype float64 by default, call `tf.keras.backend.set_floatx('float64')`. To change just this layer, pass dtype='float64' to the layer constructor. If you are the author of this layer, you can disable autocasting by passing autocast=False to the base Layer constructor.\n",
      "\n",
      "626/626 [==============================] - 1s 2ms/step - loss: 0.6932 - accuracy: 0.4977\n",
      "Epoch 2/10\n",
      "626/626 [==============================] - 2s 3ms/step - loss: 0.6932 - accuracy: 0.5018\n",
      "Epoch 3/10\n",
      "626/626 [==============================] - 2s 3ms/step - loss: 0.6932 - accuracy: 0.4987\n",
      "Epoch 4/10\n",
      "626/626 [==============================] - 1s 2ms/step - loss: 0.6932 - accuracy: 0.4998\n",
      "Epoch 5/10\n",
      "626/626 [==============================] - 1s 2ms/step - loss: 0.6932 - accuracy: 0.4980\n",
      "Epoch 6/10\n",
      "626/626 [==============================] - 1s 2ms/step - loss: 0.6932 - accuracy: 0.5006\n",
      "Epoch 7/10\n",
      "626/626 [==============================] - 1s 2ms/step - loss: 0.6932 - accuracy: 0.5023\n",
      "Epoch 8/10\n",
      "626/626 [==============================] - 1s 1ms/step - loss: 0.6932 - accuracy: 0.5013\n",
      "Epoch 9/10\n",
      "626/626 [==============================] - 1s 2ms/step - loss: 0.6932 - accuracy: 0.4982\n",
      "Epoch 10/10\n",
      "626/626 [==============================] - 1s 2ms/step - loss: 0.6932 - accuracy: 0.4980\n"
     ]
    },
    {
     "data": {
      "text/plain": [
       "<tensorflow.python.keras.callbacks.History at 0x197e5b7ba30>"
      ]
     },
     "execution_count": 34,
     "metadata": {},
     "output_type": "execute_result"
    }
   ],
   "source": [
    "model.fit(X_train, y_train,epochs=10)"
   ]
  },
  {
   "cell_type": "code",
   "execution_count": 35,
   "metadata": {},
   "outputs": [
    {
     "name": "stdout",
     "output_type": "stream",
     "text": [
      "269/269 [==============================] - 0s 1ms/step - loss: 0.6932 - accuracy: 0.4971\n"
     ]
    },
    {
     "data": {
      "text/plain": [
       "[0.693152129650116, 0.4970862567424774]"
      ]
     },
     "execution_count": 35,
     "metadata": {},
     "output_type": "execute_result"
    }
   ],
   "source": [
    "model.evaluate(X_test, y_test)"
   ]
  },
  {
   "cell_type": "code",
   "execution_count": null,
   "metadata": {},
   "outputs": [],
   "source": []
  }
 ],
 "metadata": {
  "kernelspec": {
   "display_name": "Python 3",
   "language": "python",
   "name": "python3"
  },
  "language_info": {
   "codemirror_mode": {
    "name": "ipython",
    "version": 3
   },
   "file_extension": ".py",
   "mimetype": "text/x-python",
   "name": "python",
   "nbconvert_exporter": "python",
   "pygments_lexer": "ipython3",
   "version": "3.8.3"
  }
 },
 "nbformat": 4,
 "nbformat_minor": 4
}
