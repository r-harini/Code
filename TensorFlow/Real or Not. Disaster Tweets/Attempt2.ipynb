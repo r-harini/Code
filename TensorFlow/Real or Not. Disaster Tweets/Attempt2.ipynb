{
 "cells": [
  {
   "cell_type": "code",
   "execution_count": 24,
   "metadata": {},
   "outputs": [],
   "source": [
    "import tensorflow as tf\n",
    "import numpy as np\n",
    "import pandas as pd\n",
    "import re\n",
    "import matplotlib.pyplot as plt\n",
    "from sklearn.model_selection import train_test_split\n",
    "from nltk.corpus import stopwords\n",
    "from tensorflow.keras.preprocessing.text import Tokenizer\n",
    "from tensorflow.keras.preprocessing.sequence import pad_sequences\n",
    "from tensorflow.keras.optimizers import RMSprop"
   ]
  },
  {
   "cell_type": "code",
   "execution_count": 2,
   "metadata": {},
   "outputs": [],
   "source": [
    "dataset=pd.read_csv(\"train.csv\")\n",
    "dataset.isna().sum()\n",
    "dataset=dataset.fillna(\"Missing\")"
   ]
  },
  {
   "cell_type": "code",
   "execution_count": 3,
   "metadata": {},
   "outputs": [],
   "source": [
    "#cleaning the string\n",
    "def clean_str(string):\n",
    "    string = re.sub(r'http\\S+', 'link', string) # replace links by generic text link\n",
    "    string = re.sub(r\"[^A-Za-z0-9(),!?\\'\\`]\", \" \", string)\n",
    "    string = re.sub(r\"\\'s\", \" \\'s\", string)\n",
    "    string = re.sub(r\"\\'ve\", \" \\'ve\", string)\n",
    "    string = re.sub(r\"n\\'t\", \" n\\'t\", string)\n",
    "    string = re.sub(r\"\\'re\", \" \\'re\", string)\n",
    "    string = re.sub(r\"\\'d\", \" \\'d\", string)\n",
    "    string = re.sub(r\"\\'ll\", \" \\'ll\", string)\n",
    "    string = re.sub(r\",\", \" , \", string)\n",
    "    string = re.sub(r\"!\", \" ! \", string)\n",
    "    string = re.sub(r\"\\(\", \" \\( \", string)\n",
    "    string = re.sub(r\"\\)\", \" \\) \", string)\n",
    "    string = re.sub(r\"\\?\", \" \\? \", string)\n",
    "    string = re.sub(r\"\\s{2,}\", \" \", string)\n",
    "\n",
    "    cleanr = re.compile('<.*?>')\n",
    "\n",
    "    string = re.sub(r'\\d+', '', string)\n",
    "    string = re.sub(cleanr, '', string)\n",
    "    string = re.sub(\"'\", '', string)\n",
    "    string = re.sub(r'\\W+', ' ', string)\n",
    "    string = string.replace('_', '')\n",
    "\n",
    "    return string.strip().lower()"
   ]
  },
  {
   "cell_type": "code",
   "execution_count": 4,
   "metadata": {},
   "outputs": [],
   "source": [
    "#Removing the stop words\n",
    "stop_words = set(stopwords.words('english'))\n",
    "\n",
    "def remove_stopwords(word_list):\n",
    "    no_stop_words = [w for w in word_list if not w in stop_words]\n",
    "    return no_stop_words"
   ]
  },
  {
   "cell_type": "code",
   "execution_count": 5,
   "metadata": {},
   "outputs": [
    {
     "name": "stdout",
     "output_type": "stream",
     "text": [
      "7613\n",
      "7613\n"
     ]
    }
   ],
   "source": [
    "sentences=[]\n",
    "text=dataset.text\n",
    "labels=[]\n",
    "for row in text:\n",
    "    #print(row)\n",
    "    row=clean_str(row)\n",
    "    #print(row)\n",
    "    wo_stop=remove_stopwords(row.split(\" \"))\n",
    "    wo_stop=\" \".join(wo_stop)\n",
    "    #print(wo_stop+\"\\n\\n\\n\")\n",
    "    sentences.append(wo_stop)\n",
    "for label in dataset.target:\n",
    "    labels.append(label)\n",
    "#print(sentences)\n",
    "print(len(sentences))\n",
    "print(len(labels))"
   ]
  },
  {
   "cell_type": "code",
   "execution_count": 13,
   "metadata": {},
   "outputs": [
    {
     "name": "stdout",
     "output_type": "stream",
     "text": [
      "5329\n"
     ]
    }
   ],
   "source": [
    "#hyperparameters\n",
    "train_ratio=0.7\n",
    "vocab_size=10000\n",
    "embedding_dim=32\n",
    "max_length=32\n",
    "trunc_type='post'\n",
    "oov_tok=\"<OOV>\"\n",
    "batch_size=128\n",
    "train_size=int(len(sentences)*0.7)\n",
    "print(train_size)"
   ]
  },
  {
   "cell_type": "code",
   "execution_count": 14,
   "metadata": {},
   "outputs": [],
   "source": [
    "train_sentences=sentences[0:train_size]\n",
    "train_labels=labels[0:train_size]\n",
    "val_sentences=sentences[train_size:]\n",
    "val_labels=labels[train_size:]"
   ]
  },
  {
   "cell_type": "code",
   "execution_count": 15,
   "metadata": {},
   "outputs": [],
   "source": [
    "train_tokenizer=Tokenizer(num_words=vocab_size, oov_token=oov_tok)\n",
    "train_tokenizer.fit_on_texts(train_sentences)\n",
    "train_sequences=train_tokenizer.texts_to_sequences(train_sentences)\n",
    "train_padded=pad_sequences(train_sequences, maxlen=max_length, truncating=trunc_type)\n",
    "\n",
    "val_sequences=train_tokenizer.texts_to_sequences(val_sentences)\n",
    "val_padded=pad_sequences(val_sequences, maxlen=max_length, truncating=trunc_type)"
   ]
  },
  {
   "cell_type": "code",
   "execution_count": 16,
   "metadata": {},
   "outputs": [],
   "source": [
    "X_train=np.array(train_padded)\n",
    "y_train=np.array(train_labels)\n",
    "X_val=np.array(val_padded)\n",
    "y_val=np.array(val_labels)"
   ]
  },
  {
   "cell_type": "code",
   "execution_count": 17,
   "metadata": {},
   "outputs": [
    {
     "name": "stdout",
     "output_type": "stream",
     "text": [
      "Model: \"sequential_1\"\n",
      "_________________________________________________________________\n",
      "Layer (type)                 Output Shape              Param #   \n",
      "=================================================================\n",
      "embedding_1 (Embedding)      (None, 32, 32)            320000    \n",
      "_________________________________________________________________\n",
      "spatial_dropout1d_1 (Spatial (None, 32, 32)            0         \n",
      "_________________________________________________________________\n",
      "bidirectional_1 (Bidirection (None, 64)                16640     \n",
      "_________________________________________________________________\n",
      "dropout_1 (Dropout)          (None, 64)                0         \n",
      "_________________________________________________________________\n",
      "dense_2 (Dense)              (None, 512)               33280     \n",
      "_________________________________________________________________\n",
      "dense_3 (Dense)              (None, 1)                 513       \n",
      "=================================================================\n",
      "Total params: 370,433\n",
      "Trainable params: 370,433\n",
      "Non-trainable params: 0\n",
      "_________________________________________________________________\n"
     ]
    }
   ],
   "source": [
    "model=tf.keras.Sequential([\n",
    "    tf.keras.layers.Embedding(vocab_size, embedding_dim, input_length=max_length),\n",
    "    tf.keras.layers.SpatialDropout1D(0.5),\n",
    "    tf.keras.layers.Bidirectional(tf.keras.layers.LSTM(32, recurrent_dropout=0.5)),\n",
    "    tf.keras.layers.Dropout(0.5),\n",
    "    tf.keras.layers.Dense(512,activation='relu'),\n",
    "    tf.keras.layers.Dense(1,activation='sigmoid')\n",
    "])\n",
    "model.summary()"
   ]
  },
  {
   "cell_type": "code",
   "execution_count": 18,
   "metadata": {},
   "outputs": [
    {
     "name": "stdout",
     "output_type": "stream",
     "text": [
      "Epoch 1/15\n",
      "42/42 [==============================] - 4s 86ms/step - loss: 0.6779 - accuracy: 0.5763 - val_loss: 0.6637 - val_accuracy: 0.5582\n",
      "Epoch 2/15\n",
      "42/42 [==============================] - 3s 73ms/step - loss: 0.5546 - accuracy: 0.7288 - val_loss: 0.5268 - val_accuracy: 0.7553\n",
      "Epoch 3/15\n",
      "42/42 [==============================] - 3s 71ms/step - loss: 0.3614 - accuracy: 0.8518 - val_loss: 0.4914 - val_accuracy: 0.7719\n",
      "Epoch 4/15\n",
      "42/42 [==============================] - 3s 71ms/step - loss: 0.2715 - accuracy: 0.8949 - val_loss: 0.5232 - val_accuracy: 0.7644\n",
      "Epoch 5/15\n",
      "42/42 [==============================] - 3s 73ms/step - loss: 0.2193 - accuracy: 0.9225 - val_loss: 0.5742 - val_accuracy: 0.7680\n",
      "Epoch 6/15\n",
      "42/42 [==============================] - 3s 78ms/step - loss: 0.1731 - accuracy: 0.9358 - val_loss: 0.6368 - val_accuracy: 0.7430\n",
      "Epoch 7/15\n",
      "42/42 [==============================] - 4s 103ms/step - loss: 0.1444 - accuracy: 0.9493 - val_loss: 0.6728 - val_accuracy: 0.7421\n",
      "Epoch 8/15\n",
      "42/42 [==============================] - 4s 87ms/step - loss: 0.1332 - accuracy: 0.9527 - val_loss: 0.7402 - val_accuracy: 0.7325\n",
      "Epoch 9/15\n",
      "42/42 [==============================] - 3s 76ms/step - loss: 0.1275 - accuracy: 0.9559 - val_loss: 0.7336 - val_accuracy: 0.7434\n",
      "Epoch 10/15\n",
      "42/42 [==============================] - 4s 91ms/step - loss: 0.1115 - accuracy: 0.9595 - val_loss: 0.7727 - val_accuracy: 0.7452\n",
      "Epoch 11/15\n",
      "42/42 [==============================] - 4s 97ms/step - loss: 0.1037 - accuracy: 0.9670 - val_loss: 0.8021 - val_accuracy: 0.7329\n",
      "Epoch 12/15\n",
      "42/42 [==============================] - 4s 85ms/step - loss: 0.0955 - accuracy: 0.9683 - val_loss: 0.8258 - val_accuracy: 0.7369\n",
      "Epoch 13/15\n",
      "42/42 [==============================] - 4s 93ms/step - loss: 0.0940 - accuracy: 0.9700 - val_loss: 0.8207 - val_accuracy: 0.7373\n",
      "Epoch 14/15\n",
      "42/42 [==============================] - 4s 95ms/step - loss: 0.0915 - accuracy: 0.9722 - val_loss: 0.8261 - val_accuracy: 0.7356\n",
      "Epoch 15/15\n",
      "42/42 [==============================] - 3s 73ms/step - loss: 0.0879 - accuracy: 0.9728 - val_loss: 0.8889 - val_accuracy: 0.7351\n"
     ]
    }
   ],
   "source": [
    "model.compile(loss='binary_crossentropy', optimizer='adam', metrics=['accuracy'])\n",
    "num_epochs=15\n",
    "history=model.fit(X_train,y_train, epochs=num_epochs,batch_size=batch_size, validation_data=(X_val, y_val))"
   ]
  },
  {
   "cell_type": "code",
   "execution_count": 19,
   "metadata": {},
   "outputs": [],
   "source": [
    "def plot_graphs(history,string):\n",
    "    plt.plot(history.history[string])\n",
    "    plt.plot(history.history['val_'+string])\n",
    "    plt.xlabel(\"Epochs\")\n",
    "    plt.ylabel(string)\n",
    "    plt.legend([string, 'val_'+string])\n",
    "    plt.show()\n"
   ]
  },
  {
   "cell_type": "code",
   "execution_count": 20,
   "metadata": {},
   "outputs": [
    {
     "data": {
      "image/png": "[encoded data removed]",
      "text/plain": [
       "<Figure size 432x288 with 1 Axes>"
      ]
     },
     "metadata": {
      "needs_background": "light"
     },
     "output_type": "display_data"
    },
    {
     "data": {
      "image/png": "[encoded data removed]",
      "text/plain": [
       "<Figure size 432x288 with 1 Axes>"
      ]
     },
     "metadata": {
      "needs_background": "light"
     },
     "output_type": "display_data"
    }
   ],
   "source": [
    "plot_graphs(history, \"accuracy\")\n",
    "plot_graphs(history,\"loss\")"
   ]
  },
  {
   "cell_type": "code",
   "execution_count": 27,
   "metadata": {},
   "outputs": [
    {
     "name": "stdout",
     "output_type": "stream",
     "text": [
      "Epoch 1/45\n",
      "42/42 [==============================] - 4s 84ms/step - loss: 0.6891 - accuracy: 0.5695 - val_loss: 0.6878 - val_accuracy: 0.5582\n",
      "Epoch 2/45\n",
      "42/42 [==============================] - 3s 75ms/step - loss: 0.6836 - accuracy: 0.5755 - val_loss: 0.6852 - val_accuracy: 0.5582\n",
      "Epoch 3/45\n",
      "42/42 [==============================] - 3s 75ms/step - loss: 0.6807 - accuracy: 0.5755 - val_loss: 0.6840 - val_accuracy: 0.5582\n",
      "Epoch 4/45\n",
      "42/42 [==============================] - 3s 76ms/step - loss: 0.6789 - accuracy: 0.5755 - val_loss: 0.6826 - val_accuracy: 0.5582\n",
      "Epoch 5/45\n",
      "42/42 [==============================] - 3s 76ms/step - loss: 0.6759 - accuracy: 0.5755 - val_loss: 0.6803 - val_accuracy: 0.5582\n",
      "Epoch 6/45\n",
      "42/42 [==============================] - 3s 75ms/step - loss: 0.6719 - accuracy: 0.5755 - val_loss: 0.6766 - val_accuracy: 0.5582\n",
      "Epoch 7/45\n",
      "42/42 [==============================] - 3s 78ms/step - loss: 0.6668 - accuracy: 0.5755 - val_loss: 0.6716 - val_accuracy: 0.5582\n",
      "Epoch 8/45\n",
      "42/42 [==============================] - 3s 76ms/step - loss: 0.6587 - accuracy: 0.5772 - val_loss: 0.6637 - val_accuracy: 0.5582\n",
      "Epoch 9/45\n",
      "42/42 [==============================] - 3s 76ms/step - loss: 0.6501 - accuracy: 0.5890 - val_loss: 0.6536 - val_accuracy: 0.5709\n",
      "Epoch 10/45\n",
      "42/42 [==============================] - 3s 79ms/step - loss: 0.6368 - accuracy: 0.6333 - val_loss: 0.6420 - val_accuracy: 0.6235\n",
      "Epoch 11/45\n",
      "42/42 [==============================] - 4s 89ms/step - loss: 0.6218 - accuracy: 0.6767 - val_loss: 0.6281 - val_accuracy: 0.6686\n",
      "Epoch 12/45\n",
      "42/42 [==============================] - 3s 76ms/step - loss: 0.6063 - accuracy: 0.7155 - val_loss: 0.6134 - val_accuracy: 0.6918\n",
      "Epoch 13/45\n",
      "42/42 [==============================] - 3s 79ms/step - loss: 0.5879 - accuracy: 0.7320 - val_loss: 0.6010 - val_accuracy: 0.6979\n",
      "Epoch 14/45\n",
      "42/42 [==============================] - 3s 79ms/step - loss: 0.5649 - accuracy: 0.7499 - val_loss: 0.5913 - val_accuracy: 0.6996\n",
      "Epoch 15/45\n",
      "42/42 [==============================] - 3s 78ms/step - loss: 0.5420 - accuracy: 0.7634 - val_loss: 0.5746 - val_accuracy: 0.7198\n",
      "Epoch 16/45\n",
      "42/42 [==============================] - 3s 77ms/step - loss: 0.5237 - accuracy: 0.7763 - val_loss: 0.5613 - val_accuracy: 0.7338\n",
      "Epoch 17/45\n",
      "42/42 [==============================] - 3s 75ms/step - loss: 0.4994 - accuracy: 0.7840 - val_loss: 0.5468 - val_accuracy: 0.7373\n",
      "Epoch 18/45\n",
      "42/42 [==============================] - 3s 78ms/step - loss: 0.4770 - accuracy: 0.7992 - val_loss: 0.5382 - val_accuracy: 0.7465\n",
      "Epoch 19/45\n",
      "42/42 [==============================] - 3s 77ms/step - loss: 0.4599 - accuracy: 0.8075 - val_loss: 0.5269 - val_accuracy: 0.7469\n",
      "Epoch 20/45\n",
      "42/42 [==============================] - 3s 76ms/step - loss: 0.4397 - accuracy: 0.8140 - val_loss: 0.5158 - val_accuracy: 0.7574\n",
      "Epoch 21/45\n",
      "42/42 [==============================] - 3s 77ms/step - loss: 0.4289 - accuracy: 0.8257 - val_loss: 0.5087 - val_accuracy: 0.7596\n",
      "Epoch 22/45\n",
      "42/42 [==============================] - 3s 76ms/step - loss: 0.4154 - accuracy: 0.8257 - val_loss: 0.5098 - val_accuracy: 0.7649\n",
      "Epoch 23/45\n",
      "42/42 [==============================] - 3s 76ms/step - loss: 0.3966 - accuracy: 0.8341 - val_loss: 0.5010 - val_accuracy: 0.7693\n",
      "Epoch 24/45\n",
      "42/42 [==============================] - 3s 78ms/step - loss: 0.3906 - accuracy: 0.8382 - val_loss: 0.4991 - val_accuracy: 0.7715\n",
      "Epoch 25/45\n",
      "42/42 [==============================] - 3s 76ms/step - loss: 0.3798 - accuracy: 0.8420 - val_loss: 0.4941 - val_accuracy: 0.7719\n",
      "Epoch 26/45\n",
      "42/42 [==============================] - 3s 75ms/step - loss: 0.3707 - accuracy: 0.8429 - val_loss: 0.5028 - val_accuracy: 0.7776\n",
      "Epoch 27/45\n",
      "42/42 [==============================] - 3s 77ms/step - loss: 0.3659 - accuracy: 0.8461 - val_loss: 0.4922 - val_accuracy: 0.7763\n",
      "Epoch 28/45\n",
      "42/42 [==============================] - 4s 92ms/step - loss: 0.3597 - accuracy: 0.8525 - val_loss: 0.4905 - val_accuracy: 0.7745\n",
      "Epoch 29/45\n",
      "42/42 [==============================] - 3s 77ms/step - loss: 0.3494 - accuracy: 0.8549 - val_loss: 0.4889 - val_accuracy: 0.7780\n",
      "Epoch 30/45\n",
      "42/42 [==============================] - 3s 74ms/step - loss: 0.3502 - accuracy: 0.8566 - val_loss: 0.4881 - val_accuracy: 0.7723\n",
      "Epoch 31/45\n",
      "42/42 [==============================] - 4s 83ms/step - loss: 0.3398 - accuracy: 0.8604 - val_loss: 0.4875 - val_accuracy: 0.7758\n",
      "Epoch 32/45\n",
      "42/42 [==============================] - 3s 83ms/step - loss: 0.3334 - accuracy: 0.8638 - val_loss: 0.4877 - val_accuracy: 0.7736\n",
      "Epoch 33/45\n",
      "42/42 [==============================] - 3s 76ms/step - loss: 0.3348 - accuracy: 0.8649 - val_loss: 0.4882 - val_accuracy: 0.7715\n",
      "Epoch 34/45\n",
      "42/42 [==============================] - 3s 77ms/step - loss: 0.3241 - accuracy: 0.8686 - val_loss: 0.4866 - val_accuracy: 0.7741\n",
      "Epoch 35/45\n",
      "42/42 [==============================] - 3s 77ms/step - loss: 0.3212 - accuracy: 0.8713 - val_loss: 0.4859 - val_accuracy: 0.7758\n",
      "Epoch 36/45\n",
      "42/42 [==============================] - 3s 80ms/step - loss: 0.3103 - accuracy: 0.8754 - val_loss: 0.4890 - val_accuracy: 0.7763\n",
      "Epoch 37/45\n",
      "42/42 [==============================] - 3s 77ms/step - loss: 0.3066 - accuracy: 0.8786 - val_loss: 0.4919 - val_accuracy: 0.7693\n",
      "Epoch 38/45\n",
      "42/42 [==============================] - 3s 75ms/step - loss: 0.3040 - accuracy: 0.8777 - val_loss: 0.4905 - val_accuracy: 0.7715\n",
      "Epoch 39/45\n",
      "42/42 [==============================] - 3s 76ms/step - loss: 0.3064 - accuracy: 0.8758 - val_loss: 0.4947 - val_accuracy: 0.7680\n",
      "Epoch 40/45\n",
      "42/42 [==============================] - 3s 77ms/step - loss: 0.2890 - accuracy: 0.8840 - val_loss: 0.4967 - val_accuracy: 0.7684\n",
      "Epoch 41/45\n",
      "42/42 [==============================] - 3s 74ms/step - loss: 0.2942 - accuracy: 0.8857 - val_loss: 0.4951 - val_accuracy: 0.7715\n",
      "Epoch 42/45\n",
      "42/42 [==============================] - 3s 77ms/step - loss: 0.2897 - accuracy: 0.8865 - val_loss: 0.4977 - val_accuracy: 0.7688\n",
      "Epoch 43/45\n",
      "42/42 [==============================] - 3s 76ms/step - loss: 0.2849 - accuracy: 0.8829 - val_loss: 0.4962 - val_accuracy: 0.7719\n",
      "Epoch 44/45\n",
      "42/42 [==============================] - 3s 75ms/step - loss: 0.2869 - accuracy: 0.8930 - val_loss: 0.4951 - val_accuracy: 0.7736\n",
      "Epoch 45/45\n",
      "42/42 [==============================] - 3s 75ms/step - loss: 0.2712 - accuracy: 0.8944 - val_loss: 0.4990 - val_accuracy: 0.7719\n"
     ]
    }
   ],
   "source": [
    "model=tf.keras.Sequential([\n",
    "    tf.keras.layers.Embedding(vocab_size, embedding_dim, input_length=max_length),\n",
    "    tf.keras.layers.SpatialDropout1D(0.5),\n",
    "    tf.keras.layers.Bidirectional(tf.keras.layers.LSTM(32, recurrent_dropout=0.5)),\n",
    "    tf.keras.layers.Dropout(0.5),\n",
    "    tf.keras.layers.Dense(512,activation='relu'),\n",
    "    tf.keras.layers.Dense(1,activation='sigmoid')\n",
    "])\n",
    "optimizer = RMSprop(lr=0.0001, rho=0.9, epsilon=1e-08, decay=0.0)\n",
    "    \n",
    "model.compile(loss='binary_crossentropy',optimizer=optimizer,metrics=['accuracy'])\n",
    "num_epochs=45\n",
    "history=model.fit(X_train,y_train, epochs=num_epochs,batch_size=batch_size, validation_data=(X_val, y_val))"
   ]
  },
  {
   "cell_type": "code",
   "execution_count": 28,
   "metadata": {},
   "outputs": [
    {
     "data": {
      "image/png": "[encoded data removed]",
      "text/plain": [
       "<Figure size 432x288 with 1 Axes>"
      ]
     },
     "metadata": {
      "needs_background": "light"
     },
     "output_type": "display_data"
    },
    {
     "data": {
      "image/png": "[encoded data removed]",
      "text/plain": [
       "<Figure size 432x288 with 1 Axes>"
      ]
     },
     "metadata": {
      "needs_background": "light"
     },
     "output_type": "display_data"
    }
   ],
   "source": [
    "plot_graphs(history, \"accuracy\")\n",
    "plot_graphs(history,\"loss\")"
   ]
  },
  {
   "cell_type": "code",
   "execution_count": 29,
   "metadata": {},
   "outputs": [],
   "source": [
    "test=pd.read_csv(\"test.csv\")\n",
    "test_sentences=[]\n",
    "text=test.text\n",
    "for row in text:\n",
    "    #print(row)\n",
    "    row=clean_str(row)\n",
    "    #print(row)\n",
    "    wo_stop=remove_stopwords(row.split(\" \"))\n",
    "    wo_stop=\" \".join(wo_stop)\n",
    "    #print(wo_stop+\"\\n\\n\\n\")\n",
    "    test_sentences.append(wo_stop)\n",
    "test_sequences=train_tokenizer.texts_to_sequences(test_sentences)\n",
    "test_padded=pad_sequences(test_sequences, maxlen=max_length, truncating=trunc_type)\n",
    "X_test=np.array(test_padded)"
   ]
  },
  {
   "cell_type": "code",
   "execution_count": 32,
   "metadata": {},
   "outputs": [
    {
     "data": {
      "text/plain": [
       "array([[0.3835119 ],\n",
       "       [0.87791646],\n",
       "       [0.9439733 ],\n",
       "       ...,\n",
       "       [0.9132673 ],\n",
       "       [0.9759361 ],\n",
       "       [0.92060125]], dtype=float32)"
      ]
     },
     "execution_count": 32,
     "metadata": {},
     "output_type": "execute_result"
    }
   ],
   "source": [
    "y_pred=model.predict(X_test)\n",
    "y_pred"
   ]
  },
  {
   "cell_type": "code",
   "execution_count": 33,
   "metadata": {},
   "outputs": [
    {
     "data": {
      "text/plain": [
       "array([0, 1, 1, ..., 1, 1, 1])"
      ]
     },
     "execution_count": 33,
     "metadata": {},
     "output_type": "execute_result"
    }
   ],
   "source": [
    "predictions=[]\n",
    "for i in y_pred:\n",
    "    if i>0.5:\n",
    "        predictions.append(1)\n",
    "        \n",
    "    else:\n",
    "        predictions.append(0)\n",
    "predictions=np.array(predictions)\n",
    "predictions"
   ]
  },
  {
   "cell_type": "code",
   "execution_count": 34,
   "metadata": {},
   "outputs": [],
   "source": [
    "np.savetxt('submission.csv', \n",
    "           np.c_[test.id,predictions], \n",
    "           delimiter=',', \n",
    "           header = 'id,target', \n",
    "           comments = '', \n",
    "           fmt='%d')"
   ]
  },
  {
   "cell_type": "code",
   "execution_count": null,
   "metadata": {},
   "outputs": [],
   "source": []
  }
 ],
 "metadata": {
  "kernelspec": {
   "display_name": "Python 3",
   "language": "python",
   "name": "python3"
  },
  "language_info": {
   "codemirror_mode": {
    "name": "ipython",
    "version": 3
   },
   "file_extension": ".py",
   "mimetype": "text/x-python",
   "name": "python",
   "nbconvert_exporter": "python",
   "pygments_lexer": "ipython3",
   "version": "3.8.3"
  }
 },
 "nbformat": 4,
 "nbformat_minor": 4
}
