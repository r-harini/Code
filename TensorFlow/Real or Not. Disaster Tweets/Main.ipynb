{
 "cells": [
  {
   "cell_type": "code",
   "execution_count": 1,
   "metadata": {},
   "outputs": [],
   "source": [
    "import tensorflow as tf\n",
    "import numpy as np\n",
    "import pandas as pd\n",
    "import matplotlib.pyplot as plt"
   ]
  },
  {
   "cell_type": "code",
   "execution_count": 2,
   "metadata": {},
   "outputs": [
    {
     "data": {
      "text/html": [
       "<div>\n",
       "<style scoped>\n",
       "    .dataframe tbody tr th:only-of-type {\n",
       "        vertical-align: middle;\n",
       "    }\n",
       "\n",
       "    .dataframe tbody tr th {\n",
       "        vertical-align: top;\n",
       "    }\n",
       "\n",
       "    .dataframe thead th {\n",
       "        text-align: right;\n",
       "    }\n",
       "</style>\n",
       "<table border=\"1\" class=\"dataframe\">\n",
       "  <thead>\n",
       "    <tr style=\"text-align: right;\">\n",
       "      <th></th>\n",
       "      <th>id</th>\n",
       "      <th>target</th>\n",
       "    </tr>\n",
       "  </thead>\n",
       "  <tbody>\n",
       "    <tr>\n",
       "      <th>count</th>\n",
       "      <td>7613.000000</td>\n",
       "      <td>7613.00000</td>\n",
       "    </tr>\n",
       "    <tr>\n",
       "      <th>mean</th>\n",
       "      <td>5441.934848</td>\n",
       "      <td>0.42966</td>\n",
       "    </tr>\n",
       "    <tr>\n",
       "      <th>std</th>\n",
       "      <td>3137.116090</td>\n",
       "      <td>0.49506</td>\n",
       "    </tr>\n",
       "    <tr>\n",
       "      <th>min</th>\n",
       "      <td>1.000000</td>\n",
       "      <td>0.00000</td>\n",
       "    </tr>\n",
       "    <tr>\n",
       "      <th>25%</th>\n",
       "      <td>2734.000000</td>\n",
       "      <td>0.00000</td>\n",
       "    </tr>\n",
       "    <tr>\n",
       "      <th>50%</th>\n",
       "      <td>5408.000000</td>\n",
       "      <td>0.00000</td>\n",
       "    </tr>\n",
       "    <tr>\n",
       "      <th>75%</th>\n",
       "      <td>8146.000000</td>\n",
       "      <td>1.00000</td>\n",
       "    </tr>\n",
       "    <tr>\n",
       "      <th>max</th>\n",
       "      <td>10873.000000</td>\n",
       "      <td>1.00000</td>\n",
       "    </tr>\n",
       "  </tbody>\n",
       "</table>\n",
       "</div>"
      ],
      "text/plain": [
       "                 id      target\n",
       "count   7613.000000  7613.00000\n",
       "mean    5441.934848     0.42966\n",
       "std     3137.116090     0.49506\n",
       "min        1.000000     0.00000\n",
       "25%     2734.000000     0.00000\n",
       "50%     5408.000000     0.00000\n",
       "75%     8146.000000     1.00000\n",
       "max    10873.000000     1.00000"
      ]
     },
     "execution_count": 2,
     "metadata": {},
     "output_type": "execute_result"
    }
   ],
   "source": [
    "dataset=pd.read_csv(\"train.csv\")\n",
    "dataset.describe()"
   ]
  },
  {
   "cell_type": "code",
   "execution_count": 3,
   "metadata": {},
   "outputs": [
    {
     "data": {
      "text/plain": [
       "id             0\n",
       "keyword       61\n",
       "location    2533\n",
       "text           0\n",
       "target         0\n",
       "dtype: int64"
      ]
     },
     "execution_count": 3,
     "metadata": {},
     "output_type": "execute_result"
    }
   ],
   "source": [
    "dataset.isna().sum()"
   ]
  },
  {
   "cell_type": "code",
   "execution_count": 5,
   "metadata": {},
   "outputs": [
    {
     "data": {
      "text/plain": [
       "(7613, 5)"
      ]
     },
     "execution_count": 5,
     "metadata": {},
     "output_type": "execute_result"
    }
   ],
   "source": [
    "dataset=dataset.fillna(\"Missing\")\n",
    "dataset.isna().sum()\n",
    "dataset.shape"
   ]
  },
  {
   "cell_type": "code",
   "execution_count": 7,
   "metadata": {},
   "outputs": [],
   "source": [
    "y=dataset.target\n",
    "x=dataset.drop(\"target\",axis=1)\n",
    "\n",
    "from sklearn.model_selection import train_test_split\n",
    "X_train,X_test, y_train, y_test=train_test_split(x,y,test_size=0.2, random_state=40)"
   ]
  },
  {
   "cell_type": "code",
   "execution_count": 24,
   "metadata": {},
   "outputs": [],
   "source": [
    "#hyperparameters\n",
    "vocab_size=10000\n",
    "embedding_dim=64\n",
    "max_length=120\n",
    "trunc_type='post'\n",
    "oov_tok=\"<OOV>\""
   ]
  },
  {
   "cell_type": "code",
   "execution_count": 25,
   "metadata": {},
   "outputs": [],
   "source": [
    "train_text=X_train.text\n",
    "test_text=X_test.text"
   ]
  },
  {
   "cell_type": "code",
   "execution_count": 29,
   "metadata": {},
   "outputs": [],
   "source": [
    "from tensorflow.keras.preprocessing.text import Tokenizer\n",
    "from tensorflow.keras.preprocessing.sequence import pad_sequences\n",
    "\n",
    "train_text_tokenizer=Tokenizer(num_words=vocab_size, oov_token=oov_tok)\n",
    "train_text_tokenizer.fit_on_texts(train_text)\n",
    "train_text_sequences=train_text_tokenizer.texts_to_sequences(train_text)\n",
    "train_text_padded=pad_sequences(sequences,maxlen=max_length,truncating=trunc_type)\n",
    "\n",
    "test_text_sequences=train_text_tokenizer.texts_to_sequences(test_text)\n",
    "test_text_padded=pad_sequences(test_text_sequences, maxlen=max_length, truncating=trunc_type)"
   ]
  },
  {
   "cell_type": "code",
   "execution_count": 30,
   "metadata": {},
   "outputs": [],
   "source": [
    "model=tf.keras.Sequential([\n",
    "    tf.keras.layers.Embedding(vocab_size, embedding_dim, input_length=max_length),\n",
    "    tf.keras.layers.GlobalAveragePooling1D(),\n",
    "    tf.keras.layers.Dense(16,activation='relu'),\n",
    "    tf.keras.layers.Dense(1,activation='sigmoid')\n",
    "])"
   ]
  },
  {
   "cell_type": "code",
   "execution_count": 31,
   "metadata": {},
   "outputs": [
    {
     "name": "stdout",
     "output_type": "stream",
     "text": [
      "Epoch 1/25\n",
      "191/191 [==============================] - 2s 12ms/step - loss: 0.6780 - accuracy: 0.5731 - val_loss: 0.6707 - val_accuracy: 0.5594\n",
      "Epoch 2/25\n",
      "191/191 [==============================] - 2s 12ms/step - loss: 0.6279 - accuracy: 0.6445 - val_loss: 0.5868 - val_accuracy: 0.7472\n",
      "Epoch 3/25\n",
      "191/191 [==============================] - 3s 14ms/step - loss: 0.5191 - accuracy: 0.7762 - val_loss: 0.5031 - val_accuracy: 0.7682\n",
      "Epoch 4/25\n",
      "191/191 [==============================] - 2s 12ms/step - loss: 0.4264 - accuracy: 0.8276 - val_loss: 0.4627 - val_accuracy: 0.7951\n",
      "Epoch 5/25\n",
      "191/191 [==============================] - 3s 14ms/step - loss: 0.3629 - accuracy: 0.8601 - val_loss: 0.4371 - val_accuracy: 0.8089\n",
      "Epoch 6/25\n",
      "191/191 [==============================] - 3s 14ms/step - loss: 0.3172 - accuracy: 0.8770 - val_loss: 0.4313 - val_accuracy: 0.8089\n",
      "Epoch 7/25\n",
      "191/191 [==============================] - 2s 12ms/step - loss: 0.2808 - accuracy: 0.8916 - val_loss: 0.4390 - val_accuracy: 0.8030\n",
      "Epoch 8/25\n",
      "191/191 [==============================] - 2s 12ms/step - loss: 0.2506 - accuracy: 0.9051 - val_loss: 0.4397 - val_accuracy: 0.8135\n",
      "Epoch 9/25\n",
      "191/191 [==============================] - 3s 16ms/step - loss: 0.2268 - accuracy: 0.9135 - val_loss: 0.4525 - val_accuracy: 0.8063\n",
      "Epoch 10/25\n",
      "191/191 [==============================] - 2s 11ms/step - loss: 0.2051 - accuracy: 0.9223 - val_loss: 0.4754 - val_accuracy: 0.7925\n",
      "Epoch 11/25\n",
      "191/191 [==============================] - 2s 11ms/step - loss: 0.1863 - accuracy: 0.9279 - val_loss: 0.4776 - val_accuracy: 0.8096\n",
      "Epoch 12/25\n",
      "191/191 [==============================] - 2s 11ms/step - loss: 0.1700 - accuracy: 0.9355 - val_loss: 0.5037 - val_accuracy: 0.8129\n",
      "Epoch 13/25\n",
      "191/191 [==============================] - 2s 11ms/step - loss: 0.1575 - accuracy: 0.9411 - val_loss: 0.5118 - val_accuracy: 0.8070\n",
      "Epoch 14/25\n",
      "191/191 [==============================] - 2s 12ms/step - loss: 0.1438 - accuracy: 0.9479 - val_loss: 0.5325 - val_accuracy: 0.7958\n",
      "Epoch 15/25\n",
      "191/191 [==============================] - 2s 13ms/step - loss: 0.1296 - accuracy: 0.9519 - val_loss: 0.5500 - val_accuracy: 0.7997\n",
      "Epoch 16/25\n",
      "191/191 [==============================] - 2s 13ms/step - loss: 0.1185 - accuracy: 0.9589 - val_loss: 0.5721 - val_accuracy: 0.7945\n",
      "Epoch 17/25\n",
      "191/191 [==============================] - 2s 11ms/step - loss: 0.1123 - accuracy: 0.9599 - val_loss: 0.5945 - val_accuracy: 0.8004\n",
      "Epoch 18/25\n",
      "191/191 [==============================] - 3s 15ms/step - loss: 0.1043 - accuracy: 0.9635 - val_loss: 0.6229 - val_accuracy: 0.7741\n",
      "Epoch 19/25\n",
      "191/191 [==============================] - 3s 16ms/step - loss: 0.0963 - accuracy: 0.9657 - val_loss: 0.6661 - val_accuracy: 0.8024\n",
      "Epoch 20/25\n",
      "191/191 [==============================] - 2s 12ms/step - loss: 0.0898 - accuracy: 0.9675 - val_loss: 0.6738 - val_accuracy: 0.7965\n",
      "Epoch 21/25\n",
      "191/191 [==============================] - 2s 12ms/step - loss: 0.0814 - accuracy: 0.9721 - val_loss: 0.6830 - val_accuracy: 0.7912\n",
      "Epoch 22/25\n",
      "191/191 [==============================] - 2s 13ms/step - loss: 0.0800 - accuracy: 0.9726 - val_loss: 0.7051 - val_accuracy: 0.7787\n",
      "Epoch 23/25\n",
      "191/191 [==============================] - 2s 12ms/step - loss: 0.0737 - accuracy: 0.9742 - val_loss: 0.7275 - val_accuracy: 0.7820\n",
      "Epoch 24/25\n",
      "191/191 [==============================] - 2s 12ms/step - loss: 0.0706 - accuracy: 0.9757 - val_loss: 0.7530 - val_accuracy: 0.7794\n",
      "Epoch 25/25\n",
      "191/191 [==============================] - 2s 12ms/step - loss: 0.0643 - accuracy: 0.9777 - val_loss: 0.7795 - val_accuracy: 0.7827\n"
     ]
    }
   ],
   "source": [
    "model.compile(loss='binary_crossentropy', optimizer='adam', metrics=['accuracy'])\n",
    "num_epochs=25\n",
    "history=model.fit(padded,y_train, epochs=num_epochs, validation_data=(testing_padded, y_test))"
   ]
  },
  {
   "cell_type": "code",
   "execution_count": 32,
   "metadata": {},
   "outputs": [
    {
     "data": {
      "image/png": "[encoded data removed]",
      "text/plain": [
       "<Figure size 432x288 with 1 Axes>"
      ]
     },
     "metadata": {
      "needs_background": "light"
     },
     "output_type": "display_data"
    },
    {
     "data": {
      "image/png": "[encoded data removed]",
      "text/plain": [
       "<Figure size 432x288 with 1 Axes>"
      ]
     },
     "metadata": {
      "needs_background": "light"
     },
     "output_type": "display_data"
    }
   ],
   "source": [
    "import matplotlib.pyplot as plt\n",
    "\n",
    "def plot_graphs(history,string):\n",
    "    plt.plot(history.history[string])\n",
    "    plt.plot(history.history['val_'+string])\n",
    "    plt.xlabel(\"Epochs\")\n",
    "    plt.ylabel(string)\n",
    "    plt.legend([string, 'val_'+string])\n",
    "    plt.show()\n",
    "\n",
    "plot_graphs(history, \"accuracy\")\n",
    "plot_graphs(history,\"loss\")"
   ]
  },
  {
   "cell_type": "code",
   "execution_count": 63,
   "metadata": {},
   "outputs": [
    {
     "data": {
      "text/plain": [
       "(3263, 4)"
      ]
     },
     "execution_count": 63,
     "metadata": {},
     "output_type": "execute_result"
    }
   ],
   "source": [
    "test=pd.read_csv(\"test.csv\")\n",
    "test.shape"
   ]
  },
  {
   "cell_type": "code",
   "execution_count": 62,
   "metadata": {},
   "outputs": [],
   "source": [
    "test_text_sequences=train_text_tokenizer.texts_to_sequences(test.text)\n",
    "test_text_padded=pad_sequences(test_text_sequences, maxlen=max_length, truncating=trunc_type)\n",
    "\n",
    "y=model.predict(test_text_padded)"
   ]
  },
  {
   "cell_type": "code",
   "execution_count": 56,
   "metadata": {},
   "outputs": [
    {
     "data": {
      "text/plain": [
       "array([[0.96445125],\n",
       "       [0.982519  ],\n",
       "       [0.998948  ],\n",
       "       ...,\n",
       "       [0.986524  ],\n",
       "       [0.43559542],\n",
       "       [0.9700066 ]], dtype=float32)"
      ]
     },
     "execution_count": 56,
     "metadata": {},
     "output_type": "execute_result"
    }
   ],
   "source": [
    "y"
   ]
  },
  {
   "cell_type": "code",
   "execution_count": 69,
   "metadata": {},
   "outputs": [
    {
     "data": {
      "text/plain": [
       "array([1, 1, 1, ..., 1, 0, 1])"
      ]
     },
     "execution_count": 69,
     "metadata": {},
     "output_type": "execute_result"
    }
   ],
   "source": [
    "predictions=[]\n",
    "for i in y:\n",
    "    if i>0.5:\n",
    "        predictions.append(1)\n",
    "        \n",
    "    else:\n",
    "        predictions.append(0)\n",
    "predictions=np.array(predictions)\n",
    "predictions"
   ]
  },
  {
   "cell_type": "code",
   "execution_count": 70,
   "metadata": {},
   "outputs": [],
   "source": [
    "np.savetxt('submission.csv', \n",
    "           np.c_[test.id,predictions], \n",
    "           delimiter=',', \n",
    "           header = 'id,target', \n",
    "           comments = '', \n",
    "           fmt='%d')"
   ]
  },
  {
   "cell_type": "code",
   "execution_count": 71,
   "metadata": {},
   "outputs": [
    {
     "data": {
      "text/plain": [
       "3263"
      ]
     },
     "execution_count": 71,
     "metadata": {},
     "output_type": "execute_result"
    }
   ],
   "source": [
    "test.shape[0]"
   ]
  },
  {
   "cell_type": "code",
   "execution_count": 68,
   "metadata": {},
   "outputs": [
    {
     "data": {
      "text/plain": [
       "(3263,)"
      ]
     },
     "execution_count": 68,
     "metadata": {},
     "output_type": "execute_result"
    }
   ],
   "source": [
    "predictions.shape"
   ]
  },
  {
   "cell_type": "code",
   "execution_count": null,
   "metadata": {},
   "outputs": [],
   "source": []
  }
 ],
 "metadata": {
  "kernelspec": {
   "display_name": "Python 3",
   "language": "python",
   "name": "python3"
  },
  "language_info": {
   "codemirror_mode": {
    "name": "ipython",
    "version": 3
   },
   "file_extension": ".py",
   "mimetype": "text/x-python",
   "name": "python",
   "nbconvert_exporter": "python",
   "pygments_lexer": "ipython3",
   "version": "3.7.3"
  }
 },
 "nbformat": 4,
 "nbformat_minor": 4
}
