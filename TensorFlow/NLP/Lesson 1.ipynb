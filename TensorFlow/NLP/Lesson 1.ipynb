{
 "cells": [
  {
   "cell_type": "code",
   "execution_count": 9,
   "metadata": {},
   "outputs": [],
   "source": [
    "from tensorflow.keras.preprocessing.text import Tokenizer\n",
    "from tensorflow.keras.preprocessing.sequence import pad_sequences"
   ]
  },
  {
   "cell_type": "code",
   "execution_count": 14,
   "metadata": {},
   "outputs": [],
   "source": [
    "sentences=['i love my dog','i really love icecream','you love my dog', 'i am the most awesome person']"
   ]
  },
  {
   "cell_type": "code",
   "execution_count": 15,
   "metadata": {},
   "outputs": [],
   "source": [
    "tokenizer=Tokenizer(num_words=100, oov_token=\"<00V>\")\n",
    "tokenizer.fit_on_texts(sentences)\n",
    "word_index=tokenizer.word_index"
   ]
  },
  {
   "cell_type": "code",
   "execution_count": 16,
   "metadata": {},
   "outputs": [
    {
     "name": "stdout",
     "output_type": "stream",
     "text": [
      "{'<00V>': 1, 'i': 2, 'love': 3, 'my': 4, 'dog': 5, 'really': 6, 'icecream': 7, 'you': 8, 'am': 9, 'the': 10, 'most': 11, 'awesome': 12, 'person': 13}\n",
      "[[2, 3, 4, 5], [2, 6, 3, 7], [8, 3, 4, 5], [2, 9, 10, 11, 12, 13]]\n"
     ]
    }
   ],
   "source": [
    "sequences=tokenizer.texts_to_sequences(sentences)\n",
    "print(word_index)\n",
    "print(sequences)"
   ]
  },
  {
   "cell_type": "code",
   "execution_count": 17,
   "metadata": {},
   "outputs": [
    {
     "name": "stdout",
     "output_type": "stream",
     "text": [
      "[[ 0  0  2  3  4  5]\n",
      " [ 0  0  2  6  3  7]\n",
      " [ 0  0  8  3  4  5]\n",
      " [ 2  9 10 11 12 13]]\n"
     ]
    }
   ],
   "source": [
    "padded=pad_sequences(sequences)\n",
    "print(padded)"
   ]
  },
  {
   "cell_type": "code",
   "execution_count": 20,
   "metadata": {},
   "outputs": [
    {
     "name": "stdout",
     "output_type": "stream",
     "text": [
      "[[2, 3, 1, 1, 1], [2, 1, 3, 1, 1, 1, 1], [2, 3, 4, 1]]\n",
      "[[0 0 2 3 1 1 1]\n",
      " [2 1 3 1 1 1 1]\n",
      " [0 0 0 2 3 4 1]]\n"
     ]
    }
   ],
   "source": [
    "new=['i love to play badminton', 'i also love to read a lot', 'i love my books']\n",
    "new_seq=tokenizer.texts_to_sequences(new)\n",
    "print(new_seq)\n",
    "new_pad=pad_sequences(new_seq)\n",
    "print(new_pad)"
   ]
  },
  {
   "cell_type": "code",
   "execution_count": null,
   "metadata": {},
   "outputs": [],
   "source": []
  }
 ],
 "metadata": {
  "kernelspec": {
   "display_name": "Python 3",
   "language": "python",
   "name": "python3"
  },
  "language_info": {
   "codemirror_mode": {
    "name": "ipython",
    "version": 3
   },
   "file_extension": ".py",
   "mimetype": "text/x-python",
   "name": "python",
   "nbconvert_exporter": "python",
   "pygments_lexer": "ipython3",
   "version": "3.7.3"
  }
 },
 "nbformat": 4,
 "nbformat_minor": 4
}
