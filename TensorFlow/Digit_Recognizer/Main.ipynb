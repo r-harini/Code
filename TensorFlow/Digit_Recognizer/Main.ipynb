{
 "cells": [
  {
   "cell_type": "code",
   "execution_count": 2,
   "metadata": {},
   "outputs": [],
   "source": [
    "import numpy as np\n",
    "import pandas as pd\n",
    "import tensorflow as tf\n"
   ]
  },
  {
   "cell_type": "code",
   "execution_count": 3,
   "metadata": {},
   "outputs": [],
   "source": [
    "train=pd.read_csv(\"train.csv\")\n",
    "test=pd.read_csv(\"test.csv\")"
   ]
  },
  {
   "cell_type": "code",
   "execution_count": 4,
   "metadata": {},
   "outputs": [
    {
     "name": "stdout",
     "output_type": "stream",
     "text": [
      "0        1\n",
      "1        0\n",
      "2        1\n",
      "3        4\n",
      "4        0\n",
      "        ..\n",
      "41995    0\n",
      "41996    1\n",
      "41997    7\n",
      "41998    6\n",
      "41999    9\n",
      "Name: label, Length: 42000, dtype: int64\n"
     ]
    }
   ],
   "source": [
    "from sklearn.model_selection import train_test_split\n",
    "y_train=train.label\n",
    "x_train=train.drop(\"label\", axis=1)\n",
    "\"\"\"x_train, x_test, y_train, y_test=train_test_split(x,y,test_size=0.2, random_state=2 )\n",
    "print(x_train.shape)\n",
    "print(y_train.shape)\n",
    "\"\"\"\n",
    "print(y_train)"
   ]
  },
  {
   "cell_type": "code",
   "execution_count": 5,
   "metadata": {},
   "outputs": [],
   "source": [
    "model=tf.keras.models.Sequential([\n",
    "    tf.keras.layers.Dense(128,activation='relu'),\n",
    "    tf.keras.layers.Dense(128,activation='relu'),\n",
    "    tf.keras.layers.Dense(10, activation=tf.nn.softmax)\n",
    "])"
   ]
  },
  {
   "cell_type": "code",
   "execution_count": 6,
   "metadata": {},
   "outputs": [
    {
     "name": "stdout",
     "output_type": "stream",
     "text": [
      "Epoch 1/10\n",
      "1313/1313 [==============================] - 3s 2ms/step - loss: 2.0693 - accuracy: 0.8571\n",
      "Epoch 2/10\n",
      "1313/1313 [==============================] - 3s 2ms/step - loss: 0.3981 - accuracy: 0.9195\n",
      "Epoch 3/10\n",
      "1313/1313 [==============================] - 4s 3ms/step - loss: 0.2776 - accuracy: 0.9354\n",
      "Epoch 4/10\n",
      "1313/1313 [==============================] - 2s 2ms/step - loss: 0.2108 - accuracy: 0.9455\n",
      "Epoch 5/10\n",
      "1313/1313 [==============================] - 4s 3ms/step - loss: 0.1696 - accuracy: 0.9537\n",
      "Epoch 6/10\n",
      "1313/1313 [==============================] - 3s 2ms/step - loss: 0.1398 - accuracy: 0.9608\n",
      "Epoch 7/10\n",
      "1313/1313 [==============================] - 3s 2ms/step - loss: 0.1335 - accuracy: 0.9621\n",
      "Epoch 8/10\n",
      "1313/1313 [==============================] - 2s 2ms/step - loss: 0.1213 - accuracy: 0.9666\n",
      "Epoch 9/10\n",
      "1313/1313 [==============================] - 2s 2ms/step - loss: 0.1150 - accuracy: 0.9675\n",
      "Epoch 10/10\n",
      "1313/1313 [==============================] - 3s 2ms/step - loss: 0.1026 - accuracy: 0.9708\n"
     ]
    },
    {
     "data": {
      "text/plain": [
       "<tensorflow.python.keras.callbacks.History at 0x11aa3f5bb00>"
      ]
     },
     "execution_count": 6,
     "metadata": {},
     "output_type": "execute_result"
    }
   ],
   "source": [
    "model.compile(optimizer='adam', loss='sparse_categorical_crossentropy', metrics=['accuracy'])\n",
    "model.fit(x_train, y_train, epochs=10)"
   ]
  },
  {
   "cell_type": "code",
   "execution_count": 7,
   "metadata": {},
   "outputs": [],
   "source": [
    "x_test=test"
   ]
  },
  {
   "cell_type": "code",
   "execution_count": 8,
   "metadata": {},
   "outputs": [
    {
     "data": {
      "text/plain": [
       "array([1.5617272e-24, 2.3091183e-20, 1.0000000e+00, 3.2657098e-08,\n",
       "       1.9698179e-21, 1.7416527e-26, 4.8347766e-25, 4.3366565e-08,\n",
       "       7.0251278e-15, 1.2433338e-30], dtype=float32)"
      ]
     },
     "execution_count": 8,
     "metadata": {},
     "output_type": "execute_result"
    }
   ],
   "source": [
    "p=model.predict(x_test)\n",
    "p[0]\n",
    "#int(1.0000000e+00)"
   ]
  },
  {
   "cell_type": "code",
   "execution_count": 9,
   "metadata": {},
   "outputs": [
    {
     "data": {
      "text/plain": [
       "array([2, 0, 9, ..., 3, 9, 2], dtype=int64)"
      ]
     },
     "execution_count": 9,
     "metadata": {},
     "output_type": "execute_result"
    }
   ],
   "source": [
    "y=model.predict(x_test)\n",
    "predictions=np.argmax(y,1)\n",
    "predictions"
   ]
  },
  {
   "cell_type": "code",
   "execution_count": 10,
   "metadata": {},
   "outputs": [],
   "source": [
    "np.savetxt('submission_softmax.csv', \n",
    "           np.c_[range(1,len(x_test)+1),predictions], \n",
    "           delimiter=',', \n",
    "           header = 'ImageId,Label', \n",
    "           comments = '', \n",
    "           fmt='%d')"
   ]
  },
  {
   "cell_type": "code",
   "execution_count": null,
   "metadata": {
    "collapsed": true
   },
   "outputs": [],
   "source": []
  }
 ],
 "metadata": {
  "kernelspec": {
   "display_name": "Python 3",
   "language": "python",
   "name": "python3"
  },
  "language_info": {
   "codemirror_mode": {
    "name": "ipython",
    "version": 3
   },
   "file_extension": ".py",
   "mimetype": "text/x-python",
   "name": "python",
   "nbconvert_exporter": "python",
   "pygments_lexer": "ipython3",
   "version": "3.7.3"
  }
 },
 "nbformat": 4,
 "nbformat_minor": 4
}
